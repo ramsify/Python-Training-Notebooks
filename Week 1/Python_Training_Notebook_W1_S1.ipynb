{
 "cells": [
  {
   "cell_type": "markdown",
   "id": "afe6bceb",
   "metadata": {},
   "source": [
    "# Introduction\n",
    "Guido van Rossum - Father/Creator of Python\n"
   ]
  },
  {
   "cell_type": "markdown",
   "id": "dedceda7",
   "metadata": {},
   "source": [
    "python 3.10.x or 3.11.x - python.org/downloads\n",
    "pycharm IDE community edition "
   ]
  },
  {
   "cell_type": "markdown",
   "id": "b9ee5595",
   "metadata": {},
   "source": [
    "Jupyter Notebooks - extension .ipynb ---\n",
    "Pycharm - extension .py "
   ]
  },
  {
   "cell_type": "markdown",
   "id": "a862cf75",
   "metadata": {},
   "source": [
    "Environment variables - Setup environment variables"
   ]
  },
  {
   "cell_type": "markdown",
   "id": "4b80fae0",
   "metadata": {},
   "source": [
    "Python has 2 coding paradigms - Functional & OOPs"
   ]
  },
  {
   "cell_type": "code",
   "execution_count": 94,
   "id": "1d69f080",
   "metadata": {},
   "outputs": [
    {
     "name": "stdout",
     "output_type": "stream",
     "text": [
      "Hello World welcome to Python\n"
     ]
    }
   ],
   "source": [
    "print('Hello World welcome to Python')"
   ]
  },
  {
   "cell_type": "markdown",
   "id": "73c3ece5",
   "metadata": {},
   "source": [
    "# Comments section"
   ]
  },
  {
   "cell_type": "code",
   "execution_count": 95,
   "id": "8b943b8b",
   "metadata": {},
   "outputs": [
    {
     "data": {
      "text/plain": [
       "'\\nThis is \\nalso a \\nmultiline comment\\n'"
      ]
     },
     "execution_count": 95,
     "metadata": {},
     "output_type": "execute_result"
    }
   ],
   "source": [
    "# 1 line comment and multiline comment (Doc String)\n",
    "# Sample single line comment\n",
    "# Multiline comments need to be enclosed within Triple - Single quotes or double quotes\n",
    "\"\"\"\n",
    "This \n",
    "is \n",
    "a \n",
    "multiline\n",
    "comment\n",
    "\"\"\"\n",
    "\n",
    "'''\n",
    "This is \n",
    "also a \n",
    "multiline comment\n",
    "'''"
   ]
  },
  {
   "cell_type": "code",
   "execution_count": 96,
   "id": "aa8264c6",
   "metadata": {},
   "outputs": [
    {
     "name": "stdout",
     "output_type": "stream",
     "text": [
      "'Hello this is a sample sentence'\n"
     ]
    }
   ],
   "source": [
    "# Quotes in python\n",
    "str1 = \"'Hello this is a sample sentence'\"\n",
    "print(str1)"
   ]
  },
  {
   "cell_type": "code",
   "execution_count": 97,
   "id": "849df1c6",
   "metadata": {},
   "outputs": [
    {
     "name": "stdout",
     "output_type": "stream",
     "text": [
      "\"Hello this is a sample sentence\"\n"
     ]
    }
   ],
   "source": [
    "str2 = '\"Hello this is a sample sentence\"'\n",
    "print(str2)"
   ]
  },
  {
   "cell_type": "code",
   "execution_count": 98,
   "id": "5ba948d3",
   "metadata": {},
   "outputs": [
    {
     "name": "stdout",
     "output_type": "stream",
     "text": [
      "Hello this is a sample sentence\n"
     ]
    }
   ],
   "source": [
    "str3 = 'Hello this is a sample sentence'\n",
    "print(str3)"
   ]
  },
  {
   "cell_type": "code",
   "execution_count": 99,
   "id": "0752698f",
   "metadata": {},
   "outputs": [
    {
     "name": "stdout",
     "output_type": "stream",
     "text": [
      "Hello this is a sample sentence\n"
     ]
    }
   ],
   "source": [
    "str4 = \"Hello this is a sample sentence\"\n",
    "print(str4)"
   ]
  },
  {
   "cell_type": "code",
   "execution_count": 100,
   "id": "f9e03146",
   "metadata": {},
   "outputs": [
    {
     "name": "stdout",
     "output_type": "stream",
     "text": [
      "Hello this is a sample sentence. I have both double (\") and single (') quotation marks\n"
     ]
    }
   ],
   "source": [
    "str5 = '''Hello this is a sample sentence. I have both double (\") and single (') quotation marks'''\n",
    "print(str5)"
   ]
  },
  {
   "cell_type": "markdown",
   "id": "079becf6",
   "metadata": {},
   "source": [
    "# Keywords in Python"
   ]
  },
  {
   "cell_type": "code",
   "execution_count": 101,
   "id": "e0733e7c",
   "metadata": {},
   "outputs": [
    {
     "name": "stdout",
     "output_type": "stream",
     "text": [
      "['False', 'None', 'True', 'and', 'as', 'assert', 'async', 'await', 'break', 'class', 'continue', 'def', 'del', 'elif', 'else', 'except', 'finally', 'for', 'from', 'global', 'if', 'import', 'in', 'is', 'lambda', 'nonlocal', 'not', 'or', 'pass', 'raise', 'return', 'try', 'while', 'with', 'yield']\n"
     ]
    }
   ],
   "source": [
    "# 33 keywords in python\n",
    "# Do not use Keywords as Identifiers \n",
    "# Identifiers - Names of variables, methods/functions, dataframes, classes and objects\n",
    "import keyword\n",
    "print(keyword.kwlist)"
   ]
  },
  {
   "cell_type": "markdown",
   "id": "66a241a4",
   "metadata": {},
   "source": [
    "# Datatypes in Python"
   ]
  },
  {
   "cell_type": "markdown",
   "id": "074a69b7",
   "metadata": {},
   "source": [
    "### We have primitive and Non primitive Data types\n",
    "4 basic primitive datatypes ----\n",
    "int,\n",
    "float,\n",
    "str,\n",
    "boolean"
   ]
  },
  {
   "cell_type": "markdown",
   "id": "13535091",
   "metadata": {},
   "source": [
    "#### Python doesn't require Variable declaration, you can initialize a variable and start using it immediately"
   ]
  },
  {
   "cell_type": "code",
   "execution_count": 102,
   "id": "32721033",
   "metadata": {},
   "outputs": [],
   "source": [
    "a = 10"
   ]
  },
  {
   "cell_type": "code",
   "execution_count": 103,
   "id": "b59b27f8",
   "metadata": {},
   "outputs": [
    {
     "data": {
      "text/plain": [
       "int"
      ]
     },
     "execution_count": 103,
     "metadata": {},
     "output_type": "execute_result"
    }
   ],
   "source": [
    "type(a)"
   ]
  },
  {
   "cell_type": "code",
   "execution_count": 104,
   "id": "64166114",
   "metadata": {},
   "outputs": [
    {
     "data": {
      "text/plain": [
       "str"
      ]
     },
     "execution_count": 104,
     "metadata": {},
     "output_type": "execute_result"
    }
   ],
   "source": [
    "a = 'welcome'\n",
    "type(a)"
   ]
  },
  {
   "cell_type": "code",
   "execution_count": 105,
   "id": "2f7c50bb",
   "metadata": {},
   "outputs": [
    {
     "name": "stdout",
     "output_type": "stream",
     "text": [
      "<class 'float'>\n"
     ]
    }
   ],
   "source": [
    "a = 100.056\n",
    "print(type(a))"
   ]
  },
  {
   "cell_type": "code",
   "execution_count": 106,
   "id": "73b2b3b1",
   "metadata": {},
   "outputs": [
    {
     "name": "stdout",
     "output_type": "stream",
     "text": [
      "10\n"
     ]
    }
   ],
   "source": [
    "b = input()  #Getting input from user. Any user given input is by default treated as string."
   ]
  },
  {
   "cell_type": "code",
   "execution_count": 107,
   "id": "cfbec03e",
   "metadata": {},
   "outputs": [
    {
     "data": {
      "text/plain": [
       "str"
      ]
     },
     "execution_count": 107,
     "metadata": {},
     "output_type": "execute_result"
    }
   ],
   "source": [
    "type(b)"
   ]
  },
  {
   "cell_type": "code",
   "execution_count": 108,
   "id": "935a1c9c",
   "metadata": {},
   "outputs": [
    {
     "data": {
      "text/plain": [
       "bool"
      ]
     },
     "execution_count": 108,
     "metadata": {},
     "output_type": "execute_result"
    }
   ],
   "source": [
    "d = True\n",
    "type(d)"
   ]
  },
  {
   "cell_type": "code",
   "execution_count": 109,
   "id": "46bd4779",
   "metadata": {},
   "outputs": [
    {
     "data": {
      "text/plain": [
       "100"
      ]
     },
     "execution_count": 109,
     "metadata": {},
     "output_type": "execute_result"
    }
   ],
   "source": [
    "a = 100\n",
    "a"
   ]
  },
  {
   "cell_type": "code",
   "execution_count": 110,
   "id": "db4ecc9f",
   "metadata": {},
   "outputs": [
    {
     "data": {
      "text/plain": [
       "2294900526416"
      ]
     },
     "execution_count": 110,
     "metadata": {},
     "output_type": "execute_result"
    }
   ],
   "source": [
    "id(a)  # id gives the memory location of a variable"
   ]
  },
  {
   "cell_type": "code",
   "execution_count": 111,
   "id": "541d1c42",
   "metadata": {},
   "outputs": [
    {
     "data": {
      "text/plain": [
       "2294900526416"
      ]
     },
     "execution_count": 111,
     "metadata": {},
     "output_type": "execute_result"
    }
   ],
   "source": [
    "b = 100\n",
    "id(b)"
   ]
  },
  {
   "cell_type": "markdown",
   "id": "0c37dc7c",
   "metadata": {},
   "source": [
    "# String Formatting\n",
    "\n"
   ]
  },
  {
   "cell_type": "code",
   "execution_count": 112,
   "id": "f8b0bf96",
   "metadata": {},
   "outputs": [],
   "source": [
    "country = 'Germany'\n",
    "capital = 'Berlin'"
   ]
  },
  {
   "cell_type": "code",
   "execution_count": 113,
   "id": "6e18ad0e",
   "metadata": {},
   "outputs": [
    {
     "name": "stdout",
     "output_type": "stream",
     "text": [
      "Berlin is the capital of Germany\n"
     ]
    }
   ],
   "source": [
    "print('{} is the capital of {}'.format(capital, country))"
   ]
  },
  {
   "cell_type": "code",
   "execution_count": 114,
   "id": "3dd08890",
   "metadata": {},
   "outputs": [
    {
     "name": "stdout",
     "output_type": "stream",
     "text": [
      "Berlin is the capital of Germany\n"
     ]
    }
   ],
   "source": [
    "print('{1} is the capital of {0}'.format(country, capital))"
   ]
  },
  {
   "cell_type": "markdown",
   "id": "f2181903",
   "metadata": {},
   "source": [
    "### f strings"
   ]
  },
  {
   "cell_type": "code",
   "execution_count": 115,
   "id": "7dcb6d73",
   "metadata": {},
   "outputs": [
    {
     "name": "stdout",
     "output_type": "stream",
     "text": [
      "Berlin is the capital of Germany\n"
     ]
    }
   ],
   "source": [
    "print(f'{capital} is the capital of {country}')"
   ]
  },
  {
   "cell_type": "markdown",
   "id": "46816819",
   "metadata": {},
   "source": [
    "### String formatting can also be used while assigning values to variables"
   ]
  },
  {
   "cell_type": "code",
   "execution_count": 116,
   "id": "aa9cfa2e",
   "metadata": {
    "scrolled": true
   },
   "outputs": [
    {
     "name": "stdout",
     "output_type": "stream",
     "text": [
      "Berlin is the capital of Germany\n"
     ]
    }
   ],
   "source": [
    "country = 'Germany'\n",
    "capital = 'Berlin'\n",
    "statement = '{1} is the capital of {0}'.format(country, capital)\n",
    "print(statement)"
   ]
  },
  {
   "cell_type": "markdown",
   "id": "5a0fb6b2",
   "metadata": {},
   "source": [
    "# Strings  - (strings by default are indexed in python)"
   ]
  },
  {
   "cell_type": "code",
   "execution_count": 117,
   "id": "07c7dae0",
   "metadata": {},
   "outputs": [],
   "source": [
    "a = 'Hello world' # enclose a string value in single quote, double quote or triple (single/double quote)"
   ]
  },
  {
   "cell_type": "code",
   "execution_count": 118,
   "id": "511a7e53",
   "metadata": {},
   "outputs": [
    {
     "data": {
      "text/plain": [
       "str"
      ]
     },
     "execution_count": 118,
     "metadata": {},
     "output_type": "execute_result"
    }
   ],
   "source": [
    "type(a)"
   ]
  },
  {
   "cell_type": "code",
   "execution_count": 119,
   "id": "995836e6",
   "metadata": {},
   "outputs": [
    {
     "name": "stdout",
     "output_type": "stream",
     "text": [
      "H\n"
     ]
    }
   ],
   "source": [
    "print(a[0])"
   ]
  },
  {
   "cell_type": "code",
   "execution_count": 120,
   "id": "c456840a",
   "metadata": {},
   "outputs": [
    {
     "name": "stdout",
     "output_type": "stream",
     "text": [
      "Hello world\n"
     ]
    }
   ],
   "source": [
    "print(a[0:]) "
   ]
  },
  {
   "cell_type": "code",
   "execution_count": 121,
   "id": "4e37a852",
   "metadata": {},
   "outputs": [
    {
     "name": "stdout",
     "output_type": "stream",
     "text": [
      "llo world\n"
     ]
    }
   ],
   "source": [
    "print(a[2:])"
   ]
  },
  {
   "cell_type": "code",
   "execution_count": 122,
   "id": "a352747d",
   "metadata": {},
   "outputs": [
    {
     "name": "stdout",
     "output_type": "stream",
     "text": [
      "Hell\n"
     ]
    }
   ],
   "source": [
    "print(a[0:4])\n",
    "# Start position:End position  (Note start position is inclusive and end position is excluded)\n",
    "# In the above example the values are printed through index/position 0 - 3 "
   ]
  },
  {
   "cell_type": "code",
   "execution_count": null,
   "id": "e8efffb5",
   "metadata": {},
   "outputs": [],
   "source": []
  }
 ],
 "metadata": {
  "kernelspec": {
   "display_name": "Python 3 (ipykernel)",
   "language": "python",
   "name": "python3"
  },
  "language_info": {
   "codemirror_mode": {
    "name": "ipython",
    "version": 3
   },
   "file_extension": ".py",
   "mimetype": "text/x-python",
   "name": "python",
   "nbconvert_exporter": "python",
   "pygments_lexer": "ipython3",
   "version": "3.10.9"
  }
 },
 "nbformat": 4,
 "nbformat_minor": 5
}
