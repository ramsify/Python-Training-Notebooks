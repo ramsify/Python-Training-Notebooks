{
 "cells": [
  {
   "cell_type": "markdown",
   "id": "a5833e75",
   "metadata": {},
   "source": [
    "# Data Structures / Non-primitive data types\n",
    "List, Tuple, Set and Dictionary - these data types differ from each other based on Mutability and Order"
   ]
  },
  {
   "cell_type": "markdown",
   "id": "0bb6a955",
   "metadata": {},
   "source": [
    "##### Mutability - Insert, Update, Delete operation"
   ]
  },
  {
   "cell_type": "markdown",
   "id": "89f16d15",
   "metadata": {},
   "source": [
    "#### Order - Indexing/Positioning/Sequence"
   ]
  },
  {
   "cell_type": "markdown",
   "id": "7590d391",
   "metadata": {},
   "source": [
    "# List  [ ]"
   ]
  },
  {
   "cell_type": "code",
   "execution_count": 1,
   "id": "488c874b",
   "metadata": {},
   "outputs": [
    {
     "data": {
      "text/plain": [
       "list"
      ]
     },
     "execution_count": 1,
     "metadata": {},
     "output_type": "execute_result"
    }
   ],
   "source": [
    "lst = [] # initializing a variable with empty list. In python list is signified by []\n",
    "type(lst)"
   ]
  },
  {
   "cell_type": "code",
   "execution_count": 2,
   "id": "8af07150",
   "metadata": {},
   "outputs": [],
   "source": [
    "courses = ['Mathematics', 'Physics', 'Chemistry', 'Economics']"
   ]
  },
  {
   "cell_type": "code",
   "execution_count": 3,
   "id": "5daa06e5",
   "metadata": {},
   "outputs": [
    {
     "data": {
      "text/plain": [
       "['__add__',\n",
       " '__class__',\n",
       " '__class_getitem__',\n",
       " '__contains__',\n",
       " '__delattr__',\n",
       " '__delitem__',\n",
       " '__dir__',\n",
       " '__doc__',\n",
       " '__eq__',\n",
       " '__format__',\n",
       " '__ge__',\n",
       " '__getattribute__',\n",
       " '__getitem__',\n",
       " '__gt__',\n",
       " '__hash__',\n",
       " '__iadd__',\n",
       " '__imul__',\n",
       " '__init__',\n",
       " '__init_subclass__',\n",
       " '__iter__',\n",
       " '__le__',\n",
       " '__len__',\n",
       " '__lt__',\n",
       " '__mul__',\n",
       " '__ne__',\n",
       " '__new__',\n",
       " '__reduce__',\n",
       " '__reduce_ex__',\n",
       " '__repr__',\n",
       " '__reversed__',\n",
       " '__rmul__',\n",
       " '__setattr__',\n",
       " '__setitem__',\n",
       " '__sizeof__',\n",
       " '__str__',\n",
       " '__subclasshook__',\n",
       " 'append',\n",
       " 'clear',\n",
       " 'copy',\n",
       " 'count',\n",
       " 'extend',\n",
       " 'index',\n",
       " 'insert',\n",
       " 'pop',\n",
       " 'remove',\n",
       " 'reverse',\n",
       " 'sort']"
      ]
     },
     "execution_count": 3,
     "metadata": {},
     "output_type": "execute_result"
    }
   ],
   "source": [
    "# builtin list functions\n",
    "dir(lst)"
   ]
  },
  {
   "cell_type": "code",
   "execution_count": 4,
   "id": "f7fa7862",
   "metadata": {},
   "outputs": [
    {
     "data": {
      "text/plain": [
       "4"
      ]
     },
     "execution_count": 4,
     "metadata": {},
     "output_type": "execute_result"
    }
   ],
   "source": [
    "# length of list - number of items in a given list\n",
    "len(courses)"
   ]
  },
  {
   "cell_type": "code",
   "execution_count": 5,
   "id": "35f774eb",
   "metadata": {},
   "outputs": [
    {
     "data": {
      "text/plain": [
       "['Mathematics', 'Physics', 'Chemistry', 'Economics']"
      ]
     },
     "execution_count": 5,
     "metadata": {},
     "output_type": "execute_result"
    }
   ],
   "source": [
    "courses"
   ]
  },
  {
   "cell_type": "markdown",
   "id": "a7aa351a",
   "metadata": {},
   "source": [
    "## Element retrieval from a list"
   ]
  },
  {
   "cell_type": "code",
   "execution_count": 6,
   "id": "49dfba7d",
   "metadata": {},
   "outputs": [
    {
     "data": {
      "text/plain": [
       "'Mathematics'"
      ]
     },
     "execution_count": 6,
     "metadata": {},
     "output_type": "execute_result"
    }
   ],
   "source": [
    "courses[0]  #list[index] - to retrieve an item from the given position"
   ]
  },
  {
   "cell_type": "code",
   "execution_count": 7,
   "id": "7004bfac",
   "metadata": {},
   "outputs": [
    {
     "data": {
      "text/plain": [
       "'Chemistry'"
      ]
     },
     "execution_count": 7,
     "metadata": {},
     "output_type": "execute_result"
    }
   ],
   "source": [
    "courses[2]"
   ]
  },
  {
   "cell_type": "code",
   "execution_count": 8,
   "id": "1a9f04f7",
   "metadata": {},
   "outputs": [
    {
     "data": {
      "text/plain": [
       "['Mathematics', 'Physics', 'Chemistry', 'Economics']"
      ]
     },
     "execution_count": 8,
     "metadata": {},
     "output_type": "execute_result"
    }
   ],
   "source": [
    "courses[:]"
   ]
  },
  {
   "cell_type": "code",
   "execution_count": 9,
   "id": "24f7f3f4",
   "metadata": {},
   "outputs": [
    {
     "data": {
      "text/plain": [
       "['Mathematics', 'Physics', 'Chemistry', 'Economics']"
      ]
     },
     "execution_count": 9,
     "metadata": {},
     "output_type": "execute_result"
    }
   ],
   "source": [
    "courses[0:]"
   ]
  },
  {
   "cell_type": "code",
   "execution_count": 10,
   "id": "b608cf8c",
   "metadata": {},
   "outputs": [
    {
     "data": {
      "text/plain": [
       "['Mathematics', 'Physics']"
      ]
     },
     "execution_count": 10,
     "metadata": {},
     "output_type": "execute_result"
    }
   ],
   "source": [
    "courses[:2] #0:2 -> returns 0th and 1st index"
   ]
  },
  {
   "cell_type": "code",
   "execution_count": 11,
   "id": "06d699e3",
   "metadata": {},
   "outputs": [
    {
     "data": {
      "text/plain": [
       "'Economics'"
      ]
     },
     "execution_count": 11,
     "metadata": {},
     "output_type": "execute_result"
    }
   ],
   "source": [
    "courses[-1]  # -> returns the last element in the list"
   ]
  },
  {
   "cell_type": "code",
   "execution_count": 12,
   "id": "ff32d3c4",
   "metadata": {},
   "outputs": [
    {
     "data": {
      "text/plain": [
       "['Chemistry', 'Economics']"
      ]
     },
     "execution_count": 12,
     "metadata": {},
     "output_type": "execute_result"
    }
   ],
   "source": [
    "courses[2:5]"
   ]
  },
  {
   "cell_type": "code",
   "execution_count": 13,
   "id": "e341b415",
   "metadata": {},
   "outputs": [
    {
     "data": {
      "text/plain": [
       "['Physics', 'Chemistry']"
      ]
     },
     "execution_count": 13,
     "metadata": {},
     "output_type": "execute_result"
    }
   ],
   "source": [
    "courses[1:3]"
   ]
  },
  {
   "cell_type": "code",
   "execution_count": 14,
   "id": "99f39736",
   "metadata": {},
   "outputs": [
    {
     "ename": "ValueError",
     "evalue": "'physics' is not in list",
     "output_type": "error",
     "traceback": [
      "\u001b[1;31m---------------------------------------------------------------------------\u001b[0m",
      "\u001b[1;31mValueError\u001b[0m                                Traceback (most recent call last)",
      "Cell \u001b[1;32mIn[14], line 1\u001b[0m\n\u001b[1;32m----> 1\u001b[0m \u001b[43mcourses\u001b[49m\u001b[38;5;241;43m.\u001b[39;49m\u001b[43mindex\u001b[49m\u001b[43m(\u001b[49m\u001b[38;5;124;43m'\u001b[39;49m\u001b[38;5;124;43mphysics\u001b[39;49m\u001b[38;5;124;43m'\u001b[39;49m\u001b[43m)\u001b[49m\n",
      "\u001b[1;31mValueError\u001b[0m: 'physics' is not in list"
     ]
    }
   ],
   "source": [
    "courses.index('physics') # elements are case sensitive"
   ]
  },
  {
   "cell_type": "markdown",
   "id": "15326bd0",
   "metadata": {},
   "source": [
    "## Get the Index of a given item in the list"
   ]
  },
  {
   "cell_type": "code",
   "execution_count": 15,
   "id": "bcf541c6",
   "metadata": {},
   "outputs": [
    {
     "data": {
      "text/plain": [
       "1"
      ]
     },
     "execution_count": 15,
     "metadata": {},
     "output_type": "execute_result"
    }
   ],
   "source": [
    "courses.index('Physics')"
   ]
  },
  {
   "cell_type": "code",
   "execution_count": 16,
   "id": "bd0c9455",
   "metadata": {},
   "outputs": [
    {
     "data": {
      "text/plain": [
       "2"
      ]
     },
     "execution_count": 16,
     "metadata": {},
     "output_type": "execute_result"
    }
   ],
   "source": [
    "courses.index('Chemistry')"
   ]
  },
  {
   "cell_type": "code",
   "execution_count": 17,
   "id": "99a14df3",
   "metadata": {},
   "outputs": [],
   "source": [
    "# Insert, update and delete operations \n",
    "courses.insert(5,'Applied Physics')"
   ]
  },
  {
   "cell_type": "code",
   "execution_count": 18,
   "id": "a161d8c6",
   "metadata": {},
   "outputs": [
    {
     "data": {
      "text/plain": [
       "['Mathematics', 'Physics', 'Chemistry', 'Economics', 'Applied Physics']"
      ]
     },
     "execution_count": 18,
     "metadata": {},
     "output_type": "execute_result"
    }
   ],
   "source": [
    "courses"
   ]
  },
  {
   "cell_type": "code",
   "execution_count": 19,
   "id": "366451e1",
   "metadata": {},
   "outputs": [
    {
     "data": {
      "text/plain": [
       "4"
      ]
     },
     "execution_count": 19,
     "metadata": {},
     "output_type": "execute_result"
    }
   ],
   "source": [
    "courses.index('Applied Physics')"
   ]
  },
  {
   "cell_type": "code",
   "execution_count": 20,
   "id": "304cf1c3",
   "metadata": {},
   "outputs": [],
   "source": [
    "# update\n",
    "courses[0]='Applied Maths'"
   ]
  },
  {
   "cell_type": "code",
   "execution_count": 21,
   "id": "8ce5da39",
   "metadata": {},
   "outputs": [
    {
     "data": {
      "text/plain": [
       "['Applied Maths', 'Physics', 'Chemistry', 'Economics', 'Applied Physics']"
      ]
     },
     "execution_count": 21,
     "metadata": {},
     "output_type": "execute_result"
    }
   ],
   "source": [
    "courses"
   ]
  },
  {
   "cell_type": "code",
   "execution_count": 22,
   "id": "5d7839a4",
   "metadata": {},
   "outputs": [],
   "source": [
    "courses.insert(1,'Applied Physics')"
   ]
  },
  {
   "cell_type": "code",
   "execution_count": 23,
   "id": "e83c9be9",
   "metadata": {},
   "outputs": [
    {
     "data": {
      "text/plain": [
       "['Applied Maths',\n",
       " 'Applied Physics',\n",
       " 'Physics',\n",
       " 'Chemistry',\n",
       " 'Economics',\n",
       " 'Applied Physics']"
      ]
     },
     "execution_count": 23,
     "metadata": {},
     "output_type": "execute_result"
    }
   ],
   "source": [
    "courses"
   ]
  },
  {
   "cell_type": "code",
   "execution_count": 24,
   "id": "2105d56b",
   "metadata": {},
   "outputs": [],
   "source": [
    "courses.remove('Chemistry')"
   ]
  },
  {
   "cell_type": "code",
   "execution_count": 25,
   "id": "200b7dfb",
   "metadata": {},
   "outputs": [
    {
     "data": {
      "text/plain": [
       "['Applied Maths', 'Applied Physics', 'Physics', 'Economics', 'Applied Physics']"
      ]
     },
     "execution_count": 25,
     "metadata": {},
     "output_type": "execute_result"
    }
   ],
   "source": [
    "courses"
   ]
  },
  {
   "cell_type": "code",
   "execution_count": 26,
   "id": "ce902654",
   "metadata": {},
   "outputs": [
    {
     "data": {
      "text/plain": [
       "'Applied Physics'"
      ]
     },
     "execution_count": 26,
     "metadata": {},
     "output_type": "execute_result"
    }
   ],
   "source": [
    "courses.pop()  # pop() function removes the last element from the list"
   ]
  },
  {
   "cell_type": "code",
   "execution_count": 27,
   "id": "aaa40220",
   "metadata": {},
   "outputs": [
    {
     "data": {
      "text/plain": [
       "['Applied Maths', 'Applied Physics', 'Physics', 'Economics']"
      ]
     },
     "execution_count": 27,
     "metadata": {},
     "output_type": "execute_result"
    }
   ],
   "source": [
    "courses"
   ]
  },
  {
   "cell_type": "code",
   "execution_count": 28,
   "id": "f2470ab9",
   "metadata": {},
   "outputs": [
    {
     "name": "stdout",
     "output_type": "stream",
     "text": [
      "Economics\n"
     ]
    }
   ],
   "source": [
    "popped_item = courses.pop()\n",
    "print(popped_item)"
   ]
  },
  {
   "cell_type": "code",
   "execution_count": 29,
   "id": "0e4c8337",
   "metadata": {},
   "outputs": [
    {
     "data": {
      "text/plain": [
       "['Applied Maths', 'Applied Physics', 'Physics']"
      ]
     },
     "execution_count": 29,
     "metadata": {},
     "output_type": "execute_result"
    }
   ],
   "source": [
    "# Extending a list\n",
    "courses"
   ]
  },
  {
   "cell_type": "code",
   "execution_count": 30,
   "id": "519e5e02",
   "metadata": {},
   "outputs": [],
   "source": [
    "courses2 = ['History', 'Geography', 'Political Science']"
   ]
  },
  {
   "cell_type": "code",
   "execution_count": 31,
   "id": "65573665",
   "metadata": {},
   "outputs": [],
   "source": [
    "courses.extend(courses2)"
   ]
  },
  {
   "cell_type": "code",
   "execution_count": 32,
   "id": "b4356227",
   "metadata": {},
   "outputs": [
    {
     "data": {
      "text/plain": [
       "['Applied Maths',\n",
       " 'Applied Physics',\n",
       " 'Physics',\n",
       " 'History',\n",
       " 'Geography',\n",
       " 'Political Science']"
      ]
     },
     "execution_count": 32,
     "metadata": {},
     "output_type": "execute_result"
    }
   ],
   "source": [
    "courses"
   ]
  },
  {
   "cell_type": "code",
   "execution_count": 33,
   "id": "e652ed23",
   "metadata": {},
   "outputs": [],
   "source": [
    "courses3 = ['Subject1', 'English', 'Russian']"
   ]
  },
  {
   "cell_type": "code",
   "execution_count": 34,
   "id": "08258aef",
   "metadata": {},
   "outputs": [],
   "source": [
    "courses.insert(6, courses3)  #Refer to the above and below output to understand how extend differs from insert"
   ]
  },
  {
   "cell_type": "code",
   "execution_count": 35,
   "id": "e5c41cab",
   "metadata": {},
   "outputs": [
    {
     "data": {
      "text/plain": [
       "['Applied Maths',\n",
       " 'Applied Physics',\n",
       " 'Physics',\n",
       " 'History',\n",
       " 'Geography',\n",
       " 'Political Science',\n",
       " ['Subject1', 'English', 'Russian']]"
      ]
     },
     "execution_count": 35,
     "metadata": {},
     "output_type": "execute_result"
    }
   ],
   "source": [
    "courses"
   ]
  },
  {
   "cell_type": "code",
   "execution_count": 36,
   "id": "ee20d8d9",
   "metadata": {},
   "outputs": [
    {
     "data": {
      "text/plain": [
       "7"
      ]
     },
     "execution_count": 36,
     "metadata": {},
     "output_type": "execute_result"
    }
   ],
   "source": [
    "len(courses)"
   ]
  },
  {
   "cell_type": "code",
   "execution_count": 37,
   "id": "0ab1aa21",
   "metadata": {},
   "outputs": [
    {
     "data": {
      "text/plain": [
       "['Subject1', 'English']"
      ]
     },
     "execution_count": 37,
     "metadata": {},
     "output_type": "execute_result"
    }
   ],
   "source": [
    "courses[6][0:2]  # Retrieving items from a nested list  -- in the above example you can see that courses is having a nested list"
   ]
  },
  {
   "cell_type": "code",
   "execution_count": 38,
   "id": "2a626461",
   "metadata": {},
   "outputs": [],
   "source": [
    "# append function - explore it yourself"
   ]
  },
  {
   "cell_type": "code",
   "execution_count": 39,
   "id": "e0e74ae0",
   "metadata": {},
   "outputs": [
    {
     "ename": "TypeError",
     "evalue": "'<' not supported between instances of 'list' and 'str'",
     "output_type": "error",
     "traceback": [
      "\u001b[1;31m---------------------------------------------------------------------------\u001b[0m",
      "\u001b[1;31mTypeError\u001b[0m                                 Traceback (most recent call last)",
      "Cell \u001b[1;32mIn[39], line 1\u001b[0m\n\u001b[1;32m----> 1\u001b[0m \u001b[43mcourses\u001b[49m\u001b[38;5;241;43m.\u001b[39;49m\u001b[43msort\u001b[49m\u001b[43m(\u001b[49m\u001b[43m)\u001b[49m\n",
      "\u001b[1;31mTypeError\u001b[0m: '<' not supported between instances of 'list' and 'str'"
     ]
    }
   ],
   "source": [
    "courses.sort()  # sort function will not work on a list having nested list or elements with heterogenous datatypes "
   ]
  },
  {
   "cell_type": "code",
   "execution_count": 40,
   "id": "afe434c9",
   "metadata": {},
   "outputs": [],
   "source": [
    "lst = [100, 2, 6, 0, -1, -8, 90]"
   ]
  },
  {
   "cell_type": "code",
   "execution_count": 41,
   "id": "a831fbf4",
   "metadata": {},
   "outputs": [
    {
     "data": {
      "text/plain": [
       "[-8, -1, 0, 2, 6, 90, 100]"
      ]
     },
     "execution_count": 41,
     "metadata": {},
     "output_type": "execute_result"
    }
   ],
   "source": [
    "lst.sort()\n",
    "lst"
   ]
  },
  {
   "cell_type": "code",
   "execution_count": 42,
   "id": "f6616973",
   "metadata": {},
   "outputs": [],
   "source": [
    "lst.sort(reverse=True)"
   ]
  },
  {
   "cell_type": "code",
   "execution_count": 43,
   "id": "ca62ec77",
   "metadata": {},
   "outputs": [
    {
     "data": {
      "text/plain": [
       "[100, 90, 6, 2, 0, -1, -8]"
      ]
     },
     "execution_count": 43,
     "metadata": {},
     "output_type": "execute_result"
    }
   ],
   "source": [
    "lst"
   ]
  },
  {
   "cell_type": "code",
   "execution_count": 44,
   "id": "e64601a0",
   "metadata": {},
   "outputs": [],
   "source": [
    "lst2 = sorted(lst)"
   ]
  },
  {
   "cell_type": "code",
   "execution_count": 45,
   "id": "24376495",
   "metadata": {},
   "outputs": [
    {
     "data": {
      "text/plain": [
       "([100, 90, 6, 2, 0, -1, -8], [-8, -1, 0, 2, 6, 90, 100])"
      ]
     },
     "execution_count": 45,
     "metadata": {},
     "output_type": "execute_result"
    }
   ],
   "source": [
    "lst, lst2"
   ]
  },
  {
   "cell_type": "code",
   "execution_count": 46,
   "id": "aa91fb93",
   "metadata": {},
   "outputs": [
    {
     "name": "stdout",
     "output_type": "stream",
     "text": [
      "<class 'list'>\n"
     ]
    }
   ],
   "source": [
    "print(type(lst))"
   ]
  },
  {
   "cell_type": "code",
   "execution_count": 47,
   "id": "9f0615af",
   "metadata": {},
   "outputs": [
    {
     "data": {
      "text/plain": [
       "(1359301771392, 1359301708096)"
      ]
     },
     "execution_count": 47,
     "metadata": {},
     "output_type": "execute_result"
    }
   ],
   "source": [
    "id(lst), id(lst2)"
   ]
  },
  {
   "cell_type": "markdown",
   "id": "99c5efa6",
   "metadata": {},
   "source": [
    "### A list can contain elements of heterogeneous datatypes\n",
    "example: variables, Integer, float, string, dataframes, objects"
   ]
  },
  {
   "cell_type": "code",
   "execution_count": 48,
   "id": "3168acb8",
   "metadata": {},
   "outputs": [],
   "source": [
    "# list with elements of different datatypes\n",
    "a = 100\n",
    "b = 10.456\n",
    "c = 'Hello World'\n",
    "my_list = [a,b,c]"
   ]
  },
  {
   "cell_type": "code",
   "execution_count": 49,
   "id": "fcebfc28",
   "metadata": {},
   "outputs": [
    {
     "data": {
      "text/plain": [
       "[100, 10.456, 'Hello World']"
      ]
     },
     "execution_count": 49,
     "metadata": {},
     "output_type": "execute_result"
    }
   ],
   "source": [
    "my_list"
   ]
  },
  {
   "cell_type": "code",
   "execution_count": 50,
   "id": "74329696",
   "metadata": {},
   "outputs": [
    {
     "data": {
      "text/plain": [
       "['Prison Break', 'Breaking Bad', 'The Walking Dead']"
      ]
     },
     "execution_count": 50,
     "metadata": {},
     "output_type": "execute_result"
    }
   ],
   "source": [
    "# List assignment\n",
    "lst1 = ['Prison Break', 'Breaking Bad', 'The Walking Dead']\n",
    "lst1"
   ]
  },
  {
   "cell_type": "code",
   "execution_count": 51,
   "id": "85d94839",
   "metadata": {},
   "outputs": [
    {
     "data": {
      "text/plain": [
       "(1359301590016, 1359301590016)"
      ]
     },
     "execution_count": 51,
     "metadata": {},
     "output_type": "execute_result"
    }
   ],
   "source": [
    "lst2 = lst1   # with this assignment operation any insert,update or delete operations on lst1 affects lst2 as well and vice versa\n",
    "id(lst1), id(lst2)"
   ]
  },
  {
   "cell_type": "code",
   "execution_count": 52,
   "id": "d7237e68",
   "metadata": {},
   "outputs": [
    {
     "data": {
      "text/plain": [
       "True"
      ]
     },
     "execution_count": 52,
     "metadata": {},
     "output_type": "execute_result"
    }
   ],
   "source": [
    "id(lst1)==id(lst2)"
   ]
  },
  {
   "cell_type": "code",
   "execution_count": 53,
   "id": "b3e28eb4",
   "metadata": {},
   "outputs": [],
   "source": [
    "lst2.insert(3,'Money Heist')"
   ]
  },
  {
   "cell_type": "code",
   "execution_count": 54,
   "id": "2c91b057",
   "metadata": {},
   "outputs": [
    {
     "data": {
      "text/plain": [
       "['Prison Break', 'Breaking Bad', 'The Walking Dead', 'Money Heist']"
      ]
     },
     "execution_count": 54,
     "metadata": {},
     "output_type": "execute_result"
    }
   ],
   "source": [
    "lst2"
   ]
  },
  {
   "cell_type": "code",
   "execution_count": 55,
   "id": "e7f632b4",
   "metadata": {},
   "outputs": [
    {
     "data": {
      "text/plain": [
       "['Prison Break', 'Breaking Bad', 'The Walking Dead', 'Money Heist']"
      ]
     },
     "execution_count": 55,
     "metadata": {},
     "output_type": "execute_result"
    }
   ],
   "source": [
    "lst1"
   ]
  },
  {
   "cell_type": "code",
   "execution_count": null,
   "id": "20710975",
   "metadata": {},
   "outputs": [],
   "source": []
  }
 ],
 "metadata": {
  "kernelspec": {
   "display_name": "Python 3 (ipykernel)",
   "language": "python",
   "name": "python3"
  },
  "language_info": {
   "codemirror_mode": {
    "name": "ipython",
    "version": 3
   },
   "file_extension": ".py",
   "mimetype": "text/x-python",
   "name": "python",
   "nbconvert_exporter": "python",
   "pygments_lexer": "ipython3",
   "version": "3.10.9"
  }
 },
 "nbformat": 4,
 "nbformat_minor": 5
}
