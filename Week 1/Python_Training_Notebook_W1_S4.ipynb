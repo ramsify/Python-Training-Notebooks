{
 "cells": [
  {
   "cell_type": "markdown",
   "id": "04e248ca",
   "metadata": {},
   "source": [
    "# Looping/Iterating through a list"
   ]
  },
  {
   "cell_type": "code",
   "execution_count": 1,
   "id": "53b99c44",
   "metadata": {},
   "outputs": [
    {
     "data": {
      "text/plain": [
       "['Maths', 'Physics', 'Chemistry', 'Biology']"
      ]
     },
     "execution_count": 1,
     "metadata": {},
     "output_type": "execute_result"
    }
   ],
   "source": [
    "# sample list\n",
    "courses = ['Maths', 'Physics', 'Chemistry', 'Biology']\n",
    "courses"
   ]
  },
  {
   "cell_type": "code",
   "execution_count": 2,
   "id": "a6c32a49",
   "metadata": {},
   "outputs": [
    {
     "name": "stdout",
     "output_type": "stream",
     "text": [
      "Maths\n",
      "Physics\n",
      "Chemistry\n",
      "Biology\n"
     ]
    }
   ],
   "source": [
    "for i in courses:\n",
    "    print(i)"
   ]
  },
  {
   "cell_type": "code",
   "execution_count": 3,
   "id": "ff6e0dbf",
   "metadata": {},
   "outputs": [
    {
     "name": "stdout",
     "output_type": "stream",
     "text": [
      "0\n",
      "1\n",
      "2\n",
      "3\n"
     ]
    }
   ],
   "source": [
    "for i in courses:\n",
    "    print(courses.index(i))"
   ]
  },
  {
   "cell_type": "code",
   "execution_count": 4,
   "id": "dcf568d0",
   "metadata": {},
   "outputs": [
    {
     "name": "stdout",
     "output_type": "stream",
     "text": [
      "0: Maths\n",
      "1: Physics\n",
      "2: Chemistry\n",
      "3: Biology\n"
     ]
    }
   ],
   "source": [
    "\"\"\"\n",
    "enumerate() - a built-in function allows us to iterate through a sequence and it keeps track of both the index and the element\n",
    "\n",
    "\"\"\"\n",
    "for ind, ele in enumerate(courses):\n",
    "    print(str(ind) +': '+ele)  # index: element/item"
   ]
  },
  {
   "cell_type": "code",
   "execution_count": 5,
   "id": "5c2fa2d6",
   "metadata": {},
   "outputs": [
    {
     "name": "stdout",
     "output_type": "stream",
     "text": [
      "0:Maths\n",
      "1:Physics\n",
      "2:Chemistry\n",
      "3:Biology\n"
     ]
    }
   ],
   "source": [
    "for ind, ele in enumerate(courses):\n",
    "    print(f'{ind}:{ele}') "
   ]
  },
  {
   "cell_type": "code",
   "execution_count": 6,
   "id": "96203d1e",
   "metadata": {},
   "outputs": [
    {
     "data": {
      "text/plain": [
       "['Maths', 'Physics', 'Chemistry', 'Biology']"
      ]
     },
     "execution_count": 6,
     "metadata": {},
     "output_type": "execute_result"
    }
   ],
   "source": [
    "courses"
   ]
  },
  {
   "cell_type": "markdown",
   "id": "aacefd70",
   "metadata": {},
   "source": [
    "## join and split"
   ]
  },
  {
   "cell_type": "code",
   "execution_count": 7,
   "id": "7f1bcbed",
   "metadata": {},
   "outputs": [
    {
     "data": {
      "text/plain": [
       "'Maths, Physics, Chemistry, Biology'"
      ]
     },
     "execution_count": 7,
     "metadata": {},
     "output_type": "execute_result"
    }
   ],
   "source": [
    "# join() method takes all items in an iterable and joins them into one string. A string must be specified as the separator \n",
    "lst_to_str = ', '.join(courses)\n",
    "lst_to_str"
   ]
  },
  {
   "cell_type": "code",
   "execution_count": 8,
   "id": "ebe9fe71",
   "metadata": {},
   "outputs": [
    {
     "data": {
      "text/plain": [
       "'Maths|Physics|Chemistry|Biology'"
      ]
     },
     "execution_count": 8,
     "metadata": {},
     "output_type": "execute_result"
    }
   ],
   "source": [
    "lst_to_str = '|'.join(courses)\n",
    "lst_to_str"
   ]
  },
  {
   "cell_type": "code",
   "execution_count": 9,
   "id": "7fb1af60",
   "metadata": {},
   "outputs": [
    {
     "data": {
      "text/plain": [
       "list"
      ]
     },
     "execution_count": 9,
     "metadata": {},
     "output_type": "execute_result"
    }
   ],
   "source": [
    "type(courses)"
   ]
  },
  {
   "cell_type": "code",
   "execution_count": 10,
   "id": "e30f60b9",
   "metadata": {},
   "outputs": [
    {
     "data": {
      "text/plain": [
       "str"
      ]
     },
     "execution_count": 10,
     "metadata": {},
     "output_type": "execute_result"
    }
   ],
   "source": [
    "type(lst_to_str)"
   ]
  },
  {
   "cell_type": "code",
   "execution_count": 11,
   "id": "0855e014",
   "metadata": {},
   "outputs": [
    {
     "name": "stdout",
     "output_type": "stream",
     "text": [
      "<class 'str'>\n"
     ]
    }
   ],
   "source": [
    "print(type(lst_to_str))"
   ]
  },
  {
   "cell_type": "code",
   "execution_count": 12,
   "id": "335a104c",
   "metadata": {},
   "outputs": [
    {
     "name": "stdout",
     "output_type": "stream",
     "text": [
      "<class 'list'>\n"
     ]
    }
   ],
   "source": [
    "print(type(courses))"
   ]
  },
  {
   "cell_type": "code",
   "execution_count": 13,
   "id": "bf21888f",
   "metadata": {},
   "outputs": [
    {
     "data": {
      "text/plain": [
       "'Maths|Physics|Chemistry|Biology'"
      ]
     },
     "execution_count": 13,
     "metadata": {},
     "output_type": "execute_result"
    }
   ],
   "source": [
    "lst_to_str"
   ]
  },
  {
   "cell_type": "code",
   "execution_count": 14,
   "id": "1027fe6e",
   "metadata": {},
   "outputs": [
    {
     "data": {
      "text/plain": [
       "['Maths', 'Physics', 'Chemistry', 'Biology']"
      ]
     },
     "execution_count": 14,
     "metadata": {},
     "output_type": "execute_result"
    }
   ],
   "source": [
    "# The split() method splits a string into a list. You can specify the separator, default separator is whitespace\n",
    "str_to_lst = lst_to_str.split('|')\n",
    "str_to_lst"
   ]
  },
  {
   "cell_type": "markdown",
   "id": "3726161e",
   "metadata": {},
   "source": [
    "### Membership Operators -  in, not in"
   ]
  },
  {
   "cell_type": "code",
   "execution_count": 15,
   "id": "912ddc28",
   "metadata": {},
   "outputs": [
    {
     "name": "stdout",
     "output_type": "stream",
     "text": [
      "Not Available\n"
     ]
    }
   ],
   "source": [
    "if 'biology' in courses:\n",
    "    print('Available')\n",
    "    \n",
    "else:\n",
    "    print('Not Available')"
   ]
  },
  {
   "cell_type": "code",
   "execution_count": 16,
   "id": "0b270f69",
   "metadata": {
    "scrolled": true
   },
   "outputs": [
    {
     "name": "stdout",
     "output_type": "stream",
     "text": [
      "['Maths', 'Physics', 'Chemistry', 'Biology', 'Political Science']\n"
     ]
    }
   ],
   "source": [
    "txt = 'Political Science'\n",
    "if txt not in courses:\n",
    "    courses.append(txt)\n",
    "print(courses)"
   ]
  },
  {
   "cell_type": "code",
   "execution_count": 17,
   "id": "04c613f5",
   "metadata": {},
   "outputs": [
    {
     "data": {
      "text/plain": [
       "['Maths', 'Physics', 'Chemistry', 'Biology', 'Political Science']"
      ]
     },
     "execution_count": 17,
     "metadata": {},
     "output_type": "execute_result"
    }
   ],
   "source": [
    "courses"
   ]
  },
  {
   "cell_type": "code",
   "execution_count": 18,
   "id": "0983722f",
   "metadata": {},
   "outputs": [],
   "source": [
    "# Try it yourself - Create another list by accessing the courses list and store all the items in upper case"
   ]
  },
  {
   "cell_type": "code",
   "execution_count": 19,
   "id": "50fed7e1",
   "metadata": {},
   "outputs": [
    {
     "data": {
      "text/plain": [
       "40"
      ]
     },
     "execution_count": 19,
     "metadata": {},
     "output_type": "execute_result"
    }
   ],
   "source": [
    "num_lst = [10, 20, 40, 10.56, 8.4, 1, -3]\n",
    "max(num_lst)"
   ]
  },
  {
   "cell_type": "code",
   "execution_count": 20,
   "id": "47a7ab3b",
   "metadata": {},
   "outputs": [
    {
     "data": {
      "text/plain": [
       "-3"
      ]
     },
     "execution_count": 20,
     "metadata": {},
     "output_type": "execute_result"
    }
   ],
   "source": [
    "min(num_lst)"
   ]
  },
  {
   "cell_type": "code",
   "execution_count": 21,
   "id": "ee85ac75",
   "metadata": {},
   "outputs": [],
   "source": [
    "# Try it yourself - sum of the items in the num_lst"
   ]
  },
  {
   "cell_type": "markdown",
   "id": "111c62e4",
   "metadata": {},
   "source": [
    "# Tuples - ()   - immutable and ordered"
   ]
  },
  {
   "cell_type": "code",
   "execution_count": 22,
   "id": "c7eb08e1",
   "metadata": {},
   "outputs": [
    {
     "data": {
      "text/plain": [
       "('Maths', 'Physics', 'Chemistry', 'Biology', 'Biology')"
      ]
     },
     "execution_count": 22,
     "metadata": {},
     "output_type": "execute_result"
    }
   ],
   "source": [
    "tuple1 = ('Maths', 'Physics', 'Chemistry', 'Biology', 'Biology')\n",
    "tuple1"
   ]
  },
  {
   "cell_type": "code",
   "execution_count": 23,
   "id": "8c531e6c",
   "metadata": {},
   "outputs": [
    {
     "data": {
      "text/plain": [
       "['__add__',\n",
       " '__class__',\n",
       " '__class_getitem__',\n",
       " '__contains__',\n",
       " '__delattr__',\n",
       " '__dir__',\n",
       " '__doc__',\n",
       " '__eq__',\n",
       " '__format__',\n",
       " '__ge__',\n",
       " '__getattribute__',\n",
       " '__getitem__',\n",
       " '__getnewargs__',\n",
       " '__gt__',\n",
       " '__hash__',\n",
       " '__init__',\n",
       " '__init_subclass__',\n",
       " '__iter__',\n",
       " '__le__',\n",
       " '__len__',\n",
       " '__lt__',\n",
       " '__mul__',\n",
       " '__ne__',\n",
       " '__new__',\n",
       " '__reduce__',\n",
       " '__reduce_ex__',\n",
       " '__repr__',\n",
       " '__rmul__',\n",
       " '__setattr__',\n",
       " '__sizeof__',\n",
       " '__str__',\n",
       " '__subclasshook__',\n",
       " 'count',\n",
       " 'index']"
      ]
     },
     "execution_count": 23,
     "metadata": {},
     "output_type": "execute_result"
    }
   ],
   "source": [
    "dir(tuple1)"
   ]
  },
  {
   "cell_type": "code",
   "execution_count": 24,
   "id": "e1fea31f",
   "metadata": {},
   "outputs": [
    {
     "data": {
      "text/plain": [
       "('Maths', 'Physics', 'Chemistry', 'Biology', 'Biology')"
      ]
     },
     "execution_count": 24,
     "metadata": {},
     "output_type": "execute_result"
    }
   ],
   "source": [
    "tuple1"
   ]
  },
  {
   "cell_type": "code",
   "execution_count": 25,
   "id": "e27bcf15",
   "metadata": {},
   "outputs": [
    {
     "data": {
      "text/plain": [
       "2"
      ]
     },
     "execution_count": 25,
     "metadata": {},
     "output_type": "execute_result"
    }
   ],
   "source": [
    "tuple1.count('Biology')"
   ]
  },
  {
   "cell_type": "code",
   "execution_count": 26,
   "id": "bd5a1c7a",
   "metadata": {},
   "outputs": [
    {
     "data": {
      "text/plain": [
       "0"
      ]
     },
     "execution_count": 26,
     "metadata": {},
     "output_type": "execute_result"
    }
   ],
   "source": [
    "tuple1.count('Hello')"
   ]
  },
  {
   "cell_type": "code",
   "execution_count": 27,
   "id": "2369f463",
   "metadata": {},
   "outputs": [
    {
     "data": {
      "text/plain": [
       "('Physics', 'Chemistry', 'Biology', 'Biology')"
      ]
     },
     "execution_count": 27,
     "metadata": {},
     "output_type": "execute_result"
    }
   ],
   "source": [
    "tuple1[1:]"
   ]
  },
  {
   "cell_type": "code",
   "execution_count": 28,
   "id": "3d2fcd05",
   "metadata": {},
   "outputs": [
    {
     "data": {
      "text/plain": [
       "3"
      ]
     },
     "execution_count": 28,
     "metadata": {},
     "output_type": "execute_result"
    }
   ],
   "source": [
    "tuple1.index('Biology')"
   ]
  },
  {
   "cell_type": "code",
   "execution_count": 29,
   "id": "11f68264",
   "metadata": {},
   "outputs": [
    {
     "data": {
      "text/plain": [
       "list"
      ]
     },
     "execution_count": 29,
     "metadata": {},
     "output_type": "execute_result"
    }
   ],
   "source": [
    "lst1 = [1,2,'Hello',-4]\n",
    "type(lst1)"
   ]
  },
  {
   "cell_type": "code",
   "execution_count": 30,
   "id": "deba8094",
   "metadata": {},
   "outputs": [
    {
     "data": {
      "text/plain": [
       "tuple"
      ]
     },
     "execution_count": 30,
     "metadata": {},
     "output_type": "execute_result"
    }
   ],
   "source": [
    "# type casting a list to tuple\n",
    "lst1_tup = tuple(lst1)\n",
    "type(lst1_tup)"
   ]
  },
  {
   "cell_type": "code",
   "execution_count": 31,
   "id": "1543f155",
   "metadata": {},
   "outputs": [
    {
     "data": {
      "text/plain": [
       "list"
      ]
     },
     "execution_count": 31,
     "metadata": {},
     "output_type": "execute_result"
    }
   ],
   "source": [
    "type(lst1)"
   ]
  },
  {
   "cell_type": "markdown",
   "id": "38195af1",
   "metadata": {},
   "source": [
    "# Sets   - {}  - mutable, unordered and eliminates duplicate values"
   ]
  },
  {
   "cell_type": "code",
   "execution_count": 32,
   "id": "fb807c7a",
   "metadata": {},
   "outputs": [
    {
     "name": "stdout",
     "output_type": "stream",
     "text": [
      "{'Sets', 'World', 'to', 'Welcome', 'Hello'}\n"
     ]
    }
   ],
   "source": [
    "set1 = {'Hello', 'World', 'Welcome', 'to', 'Sets'}\n",
    "print(set1)"
   ]
  },
  {
   "cell_type": "code",
   "execution_count": 33,
   "id": "205127ff",
   "metadata": {},
   "outputs": [],
   "source": [
    "lst2 = ['Hello', 'World', 'Welcome', 'to', 'Sets']"
   ]
  },
  {
   "cell_type": "code",
   "execution_count": 34,
   "id": "38639c4e",
   "metadata": {},
   "outputs": [
    {
     "name": "stdout",
     "output_type": "stream",
     "text": [
      "['Hello', 'World', 'Welcome', 'to', 'Sets']\n"
     ]
    }
   ],
   "source": [
    "print(lst2)"
   ]
  },
  {
   "cell_type": "code",
   "execution_count": 35,
   "id": "97c5312a",
   "metadata": {},
   "outputs": [
    {
     "data": {
      "text/plain": [
       "{'Applied Maths', 'Biology', 'Chemistry', 'Physics'}"
      ]
     },
     "execution_count": 35,
     "metadata": {},
     "output_type": "execute_result"
    }
   ],
   "source": [
    "set2 = {'Physics', 'Chemistry', 'Physics', 'Biology', 'Applied Maths', 'Chemistry'}\n",
    "set2"
   ]
  },
  {
   "cell_type": "code",
   "execution_count": 36,
   "id": "062c24e4",
   "metadata": {},
   "outputs": [
    {
     "data": {
      "text/plain": [
       "['Physics', 'Chemistry', 'Physics', 'Biology', 'Applied Maths', 'Chemistry']"
      ]
     },
     "execution_count": 36,
     "metadata": {},
     "output_type": "execute_result"
    }
   ],
   "source": [
    "lst2 = ['Physics', 'Chemistry', 'Physics', 'Biology', 'Applied Maths', 'Chemistry']\n",
    "lst2"
   ]
  },
  {
   "cell_type": "code",
   "execution_count": 37,
   "id": "eecc7fad",
   "metadata": {},
   "outputs": [
    {
     "data": {
      "text/plain": [
       "{'Applied Maths', 'Biology', 'Chemistry', 'Physics'}"
      ]
     },
     "execution_count": 37,
     "metadata": {},
     "output_type": "execute_result"
    }
   ],
   "source": [
    "set_a = {'Physics', 'Chemistry', 'Physics', 'Biology', 'Applied Maths', 'Chemistry'}\n",
    "set_a"
   ]
  },
  {
   "cell_type": "code",
   "execution_count": 38,
   "id": "5b008b9d",
   "metadata": {},
   "outputs": [
    {
     "data": {
      "text/plain": [
       "{'Biology', 'Chemistry', 'Commerce', 'Economics', 'Physics'}"
      ]
     },
     "execution_count": 38,
     "metadata": {},
     "output_type": "execute_result"
    }
   ],
   "source": [
    "set_b = {'Physics', 'Chemistry', 'Physics', 'Biology', 'Economics', 'Commerce'}\n",
    "set_b"
   ]
  },
  {
   "cell_type": "markdown",
   "id": "ee764d5d",
   "metadata": {},
   "source": [
    "### Set Operations"
   ]
  },
  {
   "cell_type": "code",
   "execution_count": 39,
   "id": "a184097b",
   "metadata": {},
   "outputs": [
    {
     "name": "stdout",
     "output_type": "stream",
     "text": [
      "{'Physics', 'Applied Maths', 'Commerce', 'Biology', 'Chemistry', 'Economics'}\n"
     ]
    }
   ],
   "source": [
    "print(set_a.union(set_b))"
   ]
  },
  {
   "cell_type": "code",
   "execution_count": 40,
   "id": "e26ced57",
   "metadata": {},
   "outputs": [
    {
     "data": {
      "text/plain": [
       "{'Applied Maths', 'Biology', 'Chemistry', 'Commerce', 'Economics', 'Physics'}"
      ]
     },
     "execution_count": 40,
     "metadata": {},
     "output_type": "execute_result"
    }
   ],
   "source": [
    "set_a|(set_b)"
   ]
  },
  {
   "cell_type": "code",
   "execution_count": 41,
   "id": "4d5368c9",
   "metadata": {},
   "outputs": [
    {
     "name": "stdout",
     "output_type": "stream",
     "text": [
      "{'Physics', 'Biology', 'Chemistry'}\n"
     ]
    }
   ],
   "source": [
    "print(set_a.intersection(set_b))"
   ]
  },
  {
   "cell_type": "code",
   "execution_count": 42,
   "id": "6f3c742f",
   "metadata": {},
   "outputs": [
    {
     "data": {
      "text/plain": [
       "{'Biology', 'Chemistry', 'Physics'}"
      ]
     },
     "execution_count": 42,
     "metadata": {},
     "output_type": "execute_result"
    }
   ],
   "source": [
    "(set_a)&(set_b)"
   ]
  },
  {
   "cell_type": "code",
   "execution_count": 43,
   "id": "a9ea0c19",
   "metadata": {},
   "outputs": [
    {
     "name": "stdout",
     "output_type": "stream",
     "text": [
      "{'Applied Maths'}\n"
     ]
    }
   ],
   "source": [
    "print(set_a-set_b)"
   ]
  },
  {
   "cell_type": "code",
   "execution_count": 44,
   "id": "1dcad5d7",
   "metadata": {},
   "outputs": [
    {
     "name": "stdout",
     "output_type": "stream",
     "text": [
      "{'Economics', 'Commerce'}\n"
     ]
    }
   ],
   "source": [
    "print(set_b-set_a)"
   ]
  }
 ],
 "metadata": {
  "kernelspec": {
   "display_name": "Python 3 (ipykernel)",
   "language": "python",
   "name": "python3"
  },
  "language_info": {
   "codemirror_mode": {
    "name": "ipython",
    "version": 3
   },
   "file_extension": ".py",
   "mimetype": "text/x-python",
   "name": "python",
   "nbconvert_exporter": "python",
   "pygments_lexer": "ipython3",
   "version": "3.10.9"
  }
 },
 "nbformat": 4,
 "nbformat_minor": 5
}
