{
 "cells": [
  {
   "cell_type": "markdown",
   "id": "8c2b0069",
   "metadata": {},
   "source": [
    "# Sets contd."
   ]
  },
  {
   "cell_type": "code",
   "execution_count": 1,
   "id": "01dce85f",
   "metadata": {},
   "outputs": [],
   "source": [
    "set1 = set()"
   ]
  },
  {
   "cell_type": "code",
   "execution_count": 2,
   "id": "5d0e3b78",
   "metadata": {},
   "outputs": [
    {
     "data": {
      "text/plain": [
       "set"
      ]
     },
     "execution_count": 2,
     "metadata": {},
     "output_type": "execute_result"
    }
   ],
   "source": [
    "type(set1)"
   ]
  },
  {
   "cell_type": "code",
   "execution_count": 3,
   "id": "ca3f909d",
   "metadata": {},
   "outputs": [],
   "source": [
    "cntry_set1 = {'Russia', 'Finland', 'Norway', 'UK'}"
   ]
  },
  {
   "cell_type": "code",
   "execution_count": 4,
   "id": "64711bcf",
   "metadata": {},
   "outputs": [
    {
     "name": "stdout",
     "output_type": "stream",
     "text": [
      "<class 'set'>\n"
     ]
    }
   ],
   "source": [
    "print(type(cntry_set1))"
   ]
  },
  {
   "cell_type": "code",
   "execution_count": 5,
   "id": "2e4b9ece",
   "metadata": {},
   "outputs": [],
   "source": [
    "cntry_set1.add('India')"
   ]
  },
  {
   "cell_type": "code",
   "execution_count": 6,
   "id": "30f9ded7",
   "metadata": {},
   "outputs": [
    {
     "name": "stdout",
     "output_type": "stream",
     "text": [
      "{'India', 'Norway', 'UK', 'Russia', 'Finland'}\n"
     ]
    }
   ],
   "source": [
    "print(cntry_set1)"
   ]
  },
  {
   "cell_type": "code",
   "execution_count": 7,
   "id": "be1c8847",
   "metadata": {},
   "outputs": [],
   "source": [
    "# update - to insert more than 1 item which can also be an iterable - (list, tuple, set)\n",
    "lst1 = ['Sweden', 'Denmark']\n",
    "cntry_set1.update(lst1)"
   ]
  },
  {
   "cell_type": "code",
   "execution_count": 8,
   "id": "58e2c1b9",
   "metadata": {},
   "outputs": [
    {
     "name": "stdout",
     "output_type": "stream",
     "text": [
      "{'India', 'Norway', 'UK', 'Denmark', 'Russia', 'Sweden', 'Finland'}\n"
     ]
    }
   ],
   "source": [
    "print(cntry_set1)"
   ]
  },
  {
   "cell_type": "markdown",
   "id": "a57dd215",
   "metadata": {},
   "source": [
    "# Difference between remove() and discard()\n",
    "(if we try to remove an element which is not present in a set, remove() function throws Key error while discard() will not)"
   ]
  },
  {
   "cell_type": "code",
   "execution_count": 9,
   "id": "ab796a05",
   "metadata": {},
   "outputs": [
    {
     "data": {
      "text/plain": [
       "{'Denmark', 'Finland', 'India', 'Norway', 'Russia', 'Sweden'}"
      ]
     },
     "execution_count": 9,
     "metadata": {},
     "output_type": "execute_result"
    }
   ],
   "source": [
    "cntry_set1.remove('UK')\n",
    "cntry_set1"
   ]
  },
  {
   "cell_type": "code",
   "execution_count": 10,
   "id": "1d801e1e",
   "metadata": {},
   "outputs": [
    {
     "ename": "KeyError",
     "evalue": "'Japan'",
     "output_type": "error",
     "traceback": [
      "\u001b[1;31m---------------------------------------------------------------------------\u001b[0m",
      "\u001b[1;31mKeyError\u001b[0m                                  Traceback (most recent call last)",
      "Cell \u001b[1;32mIn[10], line 1\u001b[0m\n\u001b[1;32m----> 1\u001b[0m \u001b[43mcntry_set1\u001b[49m\u001b[38;5;241;43m.\u001b[39;49m\u001b[43mremove\u001b[49m\u001b[43m(\u001b[49m\u001b[38;5;124;43m'\u001b[39;49m\u001b[38;5;124;43mJapan\u001b[39;49m\u001b[38;5;124;43m'\u001b[39;49m\u001b[43m)\u001b[49m\n",
      "\u001b[1;31mKeyError\u001b[0m: 'Japan'"
     ]
    }
   ],
   "source": [
    "cntry_set1.remove('Japan')"
   ]
  },
  {
   "cell_type": "code",
   "execution_count": 11,
   "id": "4b2ab98c",
   "metadata": {},
   "outputs": [],
   "source": [
    "cntry_set1.discard('Japan')"
   ]
  },
  {
   "cell_type": "code",
   "execution_count": 12,
   "id": "9aabab8c",
   "metadata": {},
   "outputs": [],
   "source": [
    "lst1 = ['Russia', 'Finland', 'Norway', 'UK']\n",
    "lst2 = ['Russia', 'Japan', 'Norway', 'Denmark']"
   ]
  },
  {
   "cell_type": "code",
   "execution_count": 13,
   "id": "adf7e85c",
   "metadata": {},
   "outputs": [
    {
     "name": "stdout",
     "output_type": "stream",
     "text": [
      "{'Finland', 'UK'} <class 'set'>\n"
     ]
    }
   ],
   "source": [
    "diff = set(lst1)-set(lst2)\n",
    "print(diff, type(diff))"
   ]
  },
  {
   "cell_type": "code",
   "execution_count": 14,
   "id": "25b784ef",
   "metadata": {},
   "outputs": [
    {
     "name": "stdout",
     "output_type": "stream",
     "text": [
      "{'Norway', 'UK', 'Denmark', 'Russia', 'Finland', 'Japan'} <class 'set'>\n"
     ]
    }
   ],
   "source": [
    "unionn = set(lst1)|set(lst2)\n",
    "print(unionn, type(unionn))"
   ]
  },
  {
   "cell_type": "code",
   "execution_count": 15,
   "id": "c9e6757a",
   "metadata": {},
   "outputs": [
    {
     "name": "stdout",
     "output_type": "stream",
     "text": [
      "Difference: {'Finland', 'UK'}\n",
      "Symmetric Difference: {'Denmark', 'UK', 'Finland', 'Japan'}\n"
     ]
    }
   ],
   "source": [
    "lst1 = ['Russia', 'Finland', 'Norway', 'UK']\n",
    "lst2 = ['Russia', 'Japan', 'Norway', 'Denmark']\n",
    "print('Difference:',set(lst1)-set(lst2))\n",
    "print('Symmetric Difference:',set(lst1).symmetric_difference(set(lst2)))"
   ]
  },
  {
   "cell_type": "markdown",
   "id": "c7983863",
   "metadata": {},
   "source": [
    "# Dictionaries - {key: value}"
   ]
  },
  {
   "cell_type": "code",
   "execution_count": 16,
   "id": "fda87cf6",
   "metadata": {},
   "outputs": [],
   "source": [
    "# Actual Dictionary (not python's) - Headword / Key -> Unique , for each key/headword we have -> meaning, part of speech, pronunciation, grammatical exp.\n",
    "\"\"\"\n",
    "Python dictionary - {key:value}, \n",
    "Keys - you can have strings, numbers (int,float), tuples (not lists - lists are mutable/not hashable)\n",
    "Values - no restrictions on datatypes (even a dictionary can be a value for a key - nested dictionaries)\n",
    "\"\"\"\n",
    "sample_dict = {'Japan': 'Tokyo', 'South Korea': 'Seoul', \n",
    "                'China':'Beijing', 'Finland': 'Helsinki',\n",
    "                 1: 'France'}"
   ]
  },
  {
   "cell_type": "code",
   "execution_count": 17,
   "id": "05b44acb",
   "metadata": {},
   "outputs": [
    {
     "data": {
      "text/plain": [
       "'Helsinki'"
      ]
     },
     "execution_count": 17,
     "metadata": {},
     "output_type": "execute_result"
    }
   ],
   "source": [
    "# Retrieving the value associated with a key\n",
    "sample_dict['Finland']"
   ]
  },
  {
   "cell_type": "code",
   "execution_count": 18,
   "id": "85ca78fd",
   "metadata": {},
   "outputs": [
    {
     "data": {
      "text/plain": [
       "'France'"
      ]
     },
     "execution_count": 18,
     "metadata": {},
     "output_type": "execute_result"
    }
   ],
   "source": [
    "sample_dict[1]"
   ]
  },
  {
   "cell_type": "markdown",
   "id": "3daaa763",
   "metadata": {},
   "source": [
    "### Throws Key error if you try to access a key which is not present"
   ]
  },
  {
   "cell_type": "code",
   "execution_count": 20,
   "id": "a0d342e0",
   "metadata": {},
   "outputs": [
    {
     "ename": "KeyError",
     "evalue": "'India'",
     "output_type": "error",
     "traceback": [
      "\u001b[1;31m---------------------------------------------------------------------------\u001b[0m",
      "\u001b[1;31mKeyError\u001b[0m                                  Traceback (most recent call last)",
      "Cell \u001b[1;32mIn[20], line 1\u001b[0m\n\u001b[1;32m----> 1\u001b[0m \u001b[43msample_dict\u001b[49m\u001b[43m[\u001b[49m\u001b[38;5;124;43m'\u001b[39;49m\u001b[38;5;124;43mIndia\u001b[39;49m\u001b[38;5;124;43m'\u001b[39;49m\u001b[43m]\u001b[49m\n",
      "\u001b[1;31mKeyError\u001b[0m: 'India'"
     ]
    }
   ],
   "source": [
    "sample_dict['India']"
   ]
  },
  {
   "cell_type": "markdown",
   "id": "ec12588b",
   "metadata": {},
   "source": [
    "### get() method will not throw key error if you try to access a key which is not present and returns None"
   ]
  },
  {
   "cell_type": "code",
   "execution_count": 21,
   "id": "dbda63f7",
   "metadata": {},
   "outputs": [
    {
     "name": "stdout",
     "output_type": "stream",
     "text": [
      "None\n"
     ]
    }
   ],
   "source": [
    "print(sample_dict.get('India'))"
   ]
  },
  {
   "cell_type": "code",
   "execution_count": 22,
   "id": "97c0c144",
   "metadata": {},
   "outputs": [
    {
     "name": "stdout",
     "output_type": "stream",
     "text": [
      "Key not present\n"
     ]
    }
   ],
   "source": [
    "# Using custom value if the key is not present\n",
    "print(sample_dict.get('India','Key not present'))"
   ]
  },
  {
   "cell_type": "markdown",
   "id": "ca9b2c1f",
   "metadata": {},
   "source": [
    "### Iterating through the dict items to access the keys and values"
   ]
  },
  {
   "cell_type": "code",
   "execution_count": 23,
   "id": "b582e7ed",
   "metadata": {},
   "outputs": [],
   "source": [
    "keys = []\n",
    "values = []"
   ]
  },
  {
   "cell_type": "code",
   "execution_count": 24,
   "id": "e88d7802",
   "metadata": {},
   "outputs": [],
   "source": [
    "for k, v in sample_dict.items():\n",
    "    keys.append(k)\n",
    "    values.append(v)"
   ]
  },
  {
   "cell_type": "code",
   "execution_count": 25,
   "id": "305ba525",
   "metadata": {},
   "outputs": [
    {
     "name": "stdout",
     "output_type": "stream",
     "text": [
      "Dictionary= {'Japan': 'Tokyo', 'South Korea': 'Seoul', 'China': 'Beijing', 'Finland': 'Helsinki', 1: 'France'}\n",
      "Keys= ['Japan', 'South Korea', 'China', 'Finland', 1]\n",
      "Values= ['Tokyo', 'Seoul', 'Beijing', 'Helsinki', 'France']\n"
     ]
    }
   ],
   "source": [
    "print('Dictionary=', sample_dict)\n",
    "print('Keys=', keys)\n",
    "print('Values=', values)"
   ]
  }
 ],
 "metadata": {
  "kernelspec": {
   "display_name": "Python 3 (ipykernel)",
   "language": "python",
   "name": "python3"
  },
  "language_info": {
   "codemirror_mode": {
    "name": "ipython",
    "version": 3
   },
   "file_extension": ".py",
   "mimetype": "text/x-python",
   "name": "python",
   "nbconvert_exporter": "python",
   "pygments_lexer": "ipython3",
   "version": "3.10.9"
  }
 },
 "nbformat": 4,
 "nbformat_minor": 5
}
