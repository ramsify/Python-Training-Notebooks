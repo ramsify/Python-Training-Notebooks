{
 "cells": [
  {
   "cell_type": "markdown",
   "id": "45ea1874",
   "metadata": {},
   "source": [
    "# Dictionaries contd."
   ]
  },
  {
   "cell_type": "code",
   "execution_count": 1,
   "id": "d509be3a",
   "metadata": {},
   "outputs": [],
   "source": [
    "country_dict = {'Japan': 'Tokyo', 'South Korea': 'Seoul', \n",
    "                'China':'Beijing', 'Finland': 'Helsinki',\n",
    "                 'France': 'Unknown'}"
   ]
  },
  {
   "cell_type": "code",
   "execution_count": 2,
   "id": "9aa104f2",
   "metadata": {},
   "outputs": [
    {
     "name": "stdout",
     "output_type": "stream",
     "text": [
      "keys=['Japan', 'South Korea', 'China', 'Finland', 'France'], \n",
      " values=['Tokyo', 'Seoul', 'Beijing', 'Helsinki', 'Unknown']\n"
     ]
    }
   ],
   "source": [
    "# List comprehension for extracting keys and values\n",
    "\n",
    "\"\"\"\n",
    "Below is the normal way of initializing empty lists, iterating through key, value pairs and appending them to\n",
    "the corresponding lists using a for loop\n",
    "\n",
    "\"\"\"\n",
    "keys = []\n",
    "values = []\n",
    "for k,v in country_dict.items():\n",
    "    keys.append(k)\n",
    "    values.append(v)\n",
    "print('keys={}, \\n values={}'.format(keys,values))"
   ]
  },
  {
   "cell_type": "code",
   "execution_count": 3,
   "id": "94521af0",
   "metadata": {},
   "outputs": [
    {
     "name": "stdout",
     "output_type": "stream",
     "text": [
      "keys=['Japan', 'South Korea', 'China', 'Finland', 'France'], \n",
      " values=['Tokyo', 'Seoul', 'Beijing', 'Helsinki', 'Unknown']\n"
     ]
    }
   ],
   "source": [
    "# List comprehension \n",
    "\n",
    "keys = [k for k in country_dict.keys()]\n",
    "values = [v for v in country_dict.values()]\n",
    "print('keys={}, \\n values={}'.format(keys,values))"
   ]
  },
  {
   "cell_type": "code",
   "execution_count": 4,
   "id": "a4d2d808",
   "metadata": {},
   "outputs": [],
   "source": [
    "# Hybrid comprehension of list and tuples:\n",
    "country_dict = {'Japan': 'Tokyo', 'South Korea': 'Seoul', \n",
    "                'China':'Beijing', 'Finland': 'Helsinki',\n",
    "                 'France': 'Unknown'}\n"
   ]
  },
  {
   "cell_type": "code",
   "execution_count": 5,
   "id": "284e84b1",
   "metadata": {},
   "outputs": [
    {
     "name": "stdout",
     "output_type": "stream",
     "text": [
      "[('Japan', 'Tokyo'), ('South Korea', 'Seoul'), ('China', 'Beijing'), ('Finland', 'Helsinki'), ('France', 'Unknown')]\n"
     ]
    }
   ],
   "source": [
    "# Packing/zipping the key, value pair into tuples - ('Japan', 'Tokyo'), ('South Korea', 'Seoul') and so on.\n",
    "lst_tup = [(k,v) for k, v in country_dict.items()]\n",
    "print(lst_tup)"
   ]
  },
  {
   "cell_type": "markdown",
   "id": "6ef72daa",
   "metadata": {},
   "source": [
    "## Insert, update and delete operations on a dictionary\n",
    "Note: Update function can be used for both insert and update"
   ]
  },
  {
   "cell_type": "code",
   "execution_count": 6,
   "id": "14bfa710",
   "metadata": {},
   "outputs": [
    {
     "name": "stdout",
     "output_type": "stream",
     "text": [
      "{'Japan': 'Tokyo', 'South Korea': 'Seoul', 'China': 'Beijing', 'Finland': 'Helsinki', 'France': 'Unknown', 'Ireland': 'Dublin'}\n"
     ]
    }
   ],
   "source": [
    "country_dict = {'Japan': 'Tokyo', 'South Korea': 'Seoul', \n",
    "                'China':'Beijing', 'Finland': 'Helsinki',\n",
    "                 'France': 'Unknown'}\n",
    "country_dict['Ireland']='Dublin' # Insert Operation\n",
    "print(country_dict)"
   ]
  },
  {
   "cell_type": "code",
   "execution_count": 7,
   "id": "315c35ec",
   "metadata": {},
   "outputs": [
    {
     "name": "stdout",
     "output_type": "stream",
     "text": [
      "{'Japan': 'Tokyo', 'South Korea': 'Seoul', 'China': 'Beijing', 'Finland': 'Helsinki', 'France': 'Unknown', 'Ireland': 'Dublin', 'Russia': 'Moscow'}\n"
     ]
    }
   ],
   "source": [
    "country_dict.update({'Russia': 'Moscow'}) # Insert operation\n",
    "print(country_dict)"
   ]
  },
  {
   "cell_type": "code",
   "execution_count": 8,
   "id": "4003266c",
   "metadata": {},
   "outputs": [
    {
     "name": "stdout",
     "output_type": "stream",
     "text": [
      "{'Japan': 'Tokyo', 'South Korea': 'Seoul', 'China': 'Beijing', 'Finland': 'Helsinki', 'France': 'Paris'}\n"
     ]
    }
   ],
   "source": [
    "country_dict = {'Japan': 'Tokyo', 'South Korea': 'Seoul', \n",
    "                'China':'Beijing', 'Finland': 'Helsinki',\n",
    "                 'France': 'Unknown'}\n",
    "country_dict['France']='Paris'   # Update operation\n",
    "print(country_dict)"
   ]
  },
  {
   "cell_type": "code",
   "execution_count": 9,
   "id": "f680226f",
   "metadata": {},
   "outputs": [
    {
     "name": "stdout",
     "output_type": "stream",
     "text": [
      "{'Japan': 'Tokyo', 'South Korea': 'Seoul', 'China': 'Beijing', 'Finland': 'Helsinki', 'France': 'Paris'}\n"
     ]
    }
   ],
   "source": [
    "country_dict = {'Japan': 'Tokyo', 'South Korea': 'Seoul', \n",
    "                'China':'Beijing', 'Finland': 'Helsinki',\n",
    "                 'France': 'Unknown'}\n",
    "country_dict.update({'France': 'Paris'})   # Update operation\n",
    "print(country_dict)"
   ]
  },
  {
   "cell_type": "markdown",
   "id": "bdb4de61",
   "metadata": {},
   "source": [
    "### Update function is also used to merge dictionaries"
   ]
  },
  {
   "cell_type": "code",
   "execution_count": 10,
   "id": "f4c84b0c",
   "metadata": {},
   "outputs": [
    {
     "name": "stdout",
     "output_type": "stream",
     "text": [
      "{'Japan': 'Tokyo', 'South Korea': 'Seoul', 'China': 'Beijing', 'Finland': 'Helsinki', 'France': 'Paris', 'Russia': 'Moscow'}\n"
     ]
    }
   ],
   "source": [
    "country_dict = {'Japan': 'Tokyo', 'South Korea': 'Seoul', \n",
    "                'China':'Beijing', 'Finland': 'Helsinki',\n",
    "                 'France': 'Unknown'}\n",
    "\n",
    "country_dict2 = {'France': 'Paris', 'Russia': 'Moscow' }\n",
    "\n",
    "country_dict.update(country_dict2)   # Merge operation (the merge operation under the hood actually \\\n",
    "                                     # does the insert/update operation accordingly)\n",
    "print(country_dict)"
   ]
  },
  {
   "cell_type": "markdown",
   "id": "7b811200",
   "metadata": {},
   "source": [
    "###  Delete operation in a dictionary means you are trying to remove a key, value pair \n",
    "This can be done using del keyword or pop function"
   ]
  },
  {
   "cell_type": "markdown",
   "id": "923154f6",
   "metadata": {},
   "source": [
    "del operation - returns no values where as pop() function - returns the popped value which can also be assigned to a new variable"
   ]
  },
  {
   "cell_type": "code",
   "execution_count": 11,
   "id": "22b3ca3f",
   "metadata": {},
   "outputs": [
    {
     "name": "stdout",
     "output_type": "stream",
     "text": [
      "{'Japan': 'Tokyo', 'South Korea': 'Seoul', 'China': 'Beijing', 'Finland': 'Helsinki'}\n"
     ]
    }
   ],
   "source": [
    "# Delete operation\n",
    "country_dict = {'Japan': 'Tokyo', 'South Korea': 'Seoul', \n",
    "                'China':'Beijing', 'Finland': 'Helsinki',\n",
    "                 'France': 'Unknown'}\n",
    "del country_dict['France']\n",
    "print(country_dict)"
   ]
  },
  {
   "cell_type": "code",
   "execution_count": 12,
   "id": "8c22967d",
   "metadata": {},
   "outputs": [
    {
     "name": "stdout",
     "output_type": "stream",
     "text": [
      "Dictionary = {'Japan': 'Tokyo', 'South Korea': 'Seoul', 'China': 'Beijing', 'Finland': 'Helsinki'} \n",
      " popped_value = Paris\n"
     ]
    }
   ],
   "source": [
    "# pop function\n",
    "country_dict = {'Japan': 'Tokyo', 'South Korea': 'Seoul', \n",
    "                'China':'Beijing', 'Finland': 'Helsinki',\n",
    "                 'France': 'Paris'}\n",
    "popped_value = country_dict.pop('France')\n",
    "print('Dictionary = {} \\n popped_value = {}'.format(country_dict, popped_value))"
   ]
  },
  {
   "cell_type": "markdown",
   "id": "fb2c7418",
   "metadata": {},
   "source": [
    "# Nested Dictionary"
   ]
  },
  {
   "cell_type": "code",
   "execution_count": 13,
   "id": "381f135c",
   "metadata": {},
   "outputs": [],
   "source": [
    "country_dict = {'Asia': {\n",
    "                        'Japan': 'Tokyo', \n",
    "                         'South Korea': 'Seoul',\n",
    "                         'China':'Beijing'\n",
    "                        },\n",
    "                 'Europe': {\n",
    "                         'Finland': 'Helsinki',\n",
    "                         'France': 'Unknown',\n",
    "                         'Ireland': 'Dublin'\n",
    "                 },\n",
    "                 'NAM': {\n",
    "                         'United States': 'Washington D.C',\n",
    "                         'Canada': 'Ottawa'\n",
    "                         }\n",
    "                         }"
   ]
  },
  {
   "cell_type": "code",
   "execution_count": 14,
   "id": "8df7765d",
   "metadata": {},
   "outputs": [
    {
     "name": "stdout",
     "output_type": "stream",
     "text": [
      "{'Asia': {'Japan': 'Tokyo', 'South Korea': 'Seoul', 'China': 'Beijing'}, 'Europe': {'Finland': 'Helsinki', 'France': 'Unknown', 'Ireland': 'Dublin'}, 'NAM': {'United States': 'Washington D.C', 'Canada': 'Ottawa'}}\n"
     ]
    }
   ],
   "source": [
    "print(country_dict)"
   ]
  },
  {
   "cell_type": "code",
   "execution_count": 15,
   "id": "de591e4a",
   "metadata": {},
   "outputs": [
    {
     "name": "stdout",
     "output_type": "stream",
     "text": [
      "keys=['Asia', 'Europe', 'NAM'], \n",
      " values=[{'Japan': 'Tokyo', 'South Korea': 'Seoul', 'China': 'Beijing'}, {'Finland': 'Helsinki', 'France': 'Unknown', 'Ireland': 'Dublin'}, {'United States': 'Washington D.C', 'Canada': 'Ottawa'}]\n"
     ]
    }
   ],
   "source": [
    "keys = [k for k in country_dict.keys()]\n",
    "values = [v for v in country_dict.values()]\n",
    "print('keys={}, \\n values={}'.format(keys,values))"
   ]
  },
  {
   "cell_type": "code",
   "execution_count": 16,
   "id": "8c15aabd",
   "metadata": {},
   "outputs": [
    {
     "data": {
      "text/plain": [
       "'Dublin'"
      ]
     },
     "execution_count": 16,
     "metadata": {},
     "output_type": "execute_result"
    }
   ],
   "source": [
    "country_dict['Europe']['Ireland']"
   ]
  },
  {
   "cell_type": "code",
   "execution_count": 17,
   "id": "f4a9335b",
   "metadata": {},
   "outputs": [
    {
     "data": {
      "text/plain": [
       "{'Finland': 'Helsinki',\n",
       " 'France': 'Unknown',\n",
       " 'Ireland': 'Dublin',\n",
       " 'Russia': 'Moscow',\n",
       " 'Austria': 'Vienna'}"
      ]
     },
     "execution_count": 17,
     "metadata": {},
     "output_type": "execute_result"
    }
   ],
   "source": [
    "country_dict2 = {'Russia':'Moscow', 'Austria': 'Vienna'}\n",
    "country_dict['Europe'].update(country_dict2)\n",
    "country_dict['Europe']"
   ]
  },
  {
   "cell_type": "markdown",
   "id": "1b2aefda",
   "metadata": {},
   "source": [
    "### Sample Nested Dictionary with heterogeneous data"
   ]
  },
  {
   "cell_type": "code",
   "execution_count": 18,
   "id": "722446a9",
   "metadata": {},
   "outputs": [
    {
     "name": "stdout",
     "output_type": "stream",
     "text": [
      "{'Triumph': {'Model Variants': ['Bonneville', 'Street Twin', 'Speed Twin'], 'HQ': 'UK', 'Torque': '120 - 140 Nm', 'Curb Weight in kg': [('Bonneville', 270), ('Street Twin', 255), ('Speed Twin', 260)], 'Auto Cruise': False}, 'Harley Davidson': {'Model Variants': ['Fatboy', 'Street Glide', 'Roadster'], 'HQ': 'USA', 'Torque': '180 - 200 Nm', 'Curb Weight in kg': [('Fatboy', 290), ('Street Glide', 310), ('Roadster', 250)], 'Auto Cruise': True}, 'Ducati': None}\n"
     ]
    }
   ],
   "source": [
    "Motorcycles = {'Triumph': {\n",
    "                         'Model Variants' : ['Bonneville','Street Twin', 'Speed Twin'],\n",
    "                         'HQ': 'UK',\n",
    "                         'Torque': '120 - 140 Nm',\n",
    "                         'Curb Weight in kg': [('Bonneville', 270),('Street Twin', 255),('Speed Twin', 260)],\n",
    "                         'Auto Cruise': False,\n",
    "                          },\n",
    "               'Harley Davidson': {\n",
    "                         'Model Variants' : ['Fatboy','Street Glide', 'Roadster'],\n",
    "                         'HQ': 'USA',\n",
    "                         'Torque': '180 - 200 Nm',\n",
    "                         'Curb Weight in kg': [('Fatboy', 290),('Street Glide', 310),('Roadster', 250)],\n",
    "                         'Auto Cruise': True,\n",
    "                          },\n",
    "               'Ducati' : None\n",
    "              }\n",
    "print(Motorcycles)"
   ]
  },
  {
   "cell_type": "code",
   "execution_count": 19,
   "id": "97e8d09c",
   "metadata": {},
   "outputs": [
    {
     "name": "stdout",
     "output_type": "stream",
     "text": [
      "[('Triumph', {'Model Variants': ['Bonneville', 'Street Twin', 'Speed Twin'], 'HQ': 'UK', 'Torque': '120 - 140 Nm', 'Curb Weight in kg': [('Bonneville', 270), ('Street Twin', 255), ('Speed Twin', 260)], 'Auto Cruise': False}), ('Harley Davidson', {'Model Variants': ['Fatboy', 'Street Glide', 'Roadster'], 'HQ': 'USA', 'Torque': '180 - 200 Nm', 'Curb Weight in kg': [('Fatboy', 290), ('Street Glide', 310), ('Roadster', 250)], 'Auto Cruise': True}), ('Ducati', None)]\n"
     ]
    }
   ],
   "source": [
    "lst_tup = [(k,v) for k, v in Motorcycles.items()]\n",
    "print(lst_tup)"
   ]
  },
  {
   "cell_type": "markdown",
   "id": "4d05ce2c",
   "metadata": {},
   "source": [
    "# Explore it yourself - Frozen Sets"
   ]
  }
 ],
 "metadata": {
  "kernelspec": {
   "display_name": "Python 3 (ipykernel)",
   "language": "python",
   "name": "python3"
  },
  "language_info": {
   "codemirror_mode": {
    "name": "ipython",
    "version": 3
   },
   "file_extension": ".py",
   "mimetype": "text/x-python",
   "name": "python",
   "nbconvert_exporter": "python",
   "pygments_lexer": "ipython3",
   "version": "3.10.9"
  }
 },
 "nbformat": 4,
 "nbformat_minor": 5
}
