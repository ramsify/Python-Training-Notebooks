{
 "cells": [
  {
   "cell_type": "markdown",
   "id": "725ee536",
   "metadata": {},
   "source": [
    "# Functions\n",
    "Functions in computer programming language can be defined as a set of instructions that can be executed to perform a specific task."
   ]
  },
  {
   "cell_type": "code",
   "execution_count": 1,
   "id": "d33d0ca6",
   "metadata": {},
   "outputs": [],
   "source": [
    "# Function definition with no arguments\n",
    "def sample_fun():    \n",
    "    print('This is a sample function')"
   ]
  },
  {
   "cell_type": "code",
   "execution_count": 2,
   "id": "a1a29b3a",
   "metadata": {},
   "outputs": [
    {
     "name": "stdout",
     "output_type": "stream",
     "text": [
      "This is a sample function\n"
     ]
    }
   ],
   "source": [
    "# Function call\n",
    "sample_fun()  # This example function 'sample_fun()' doesn't take any parameters"
   ]
  },
  {
   "cell_type": "markdown",
   "id": "e3d13cef",
   "metadata": {},
   "source": [
    "### Functions have 2 types of arguments\n",
    "1. Non-default/Positional arguments  \n",
    "2. Default/optional arguments"
   ]
  },
  {
   "cell_type": "markdown",
   "id": "c79e80b6",
   "metadata": {},
   "source": [
    "### Positional/non default arguments\n",
    "The values passed in the function call will be taken in the same order for positional argument assignment  \n",
    "Passing values for default arguments in function call is mandatory"
   ]
  },
  {
   "cell_type": "code",
   "execution_count": 3,
   "id": "e07ca595",
   "metadata": {},
   "outputs": [],
   "source": [
    "# Function definition\n",
    "def cntry_cap(city, country):  # positional arguments = country, city\n",
    "    print('{} is the capital of {}'.format(city, country))"
   ]
  },
  {
   "cell_type": "code",
   "execution_count": 4,
   "id": "24756b90",
   "metadata": {},
   "outputs": [
    {
     "name": "stdout",
     "output_type": "stream",
     "text": [
      "Oslo is the capital of Norway\n"
     ]
    }
   ],
   "source": [
    "cntry_cap('Oslo','Norway')"
   ]
  },
  {
   "cell_type": "code",
   "execution_count": 5,
   "id": "e17f5a94",
   "metadata": {},
   "outputs": [
    {
     "name": "stdout",
     "output_type": "stream",
     "text": [
      "Tokyo is the capital of Japan\n"
     ]
    }
   ],
   "source": [
    "cntry_cap('Tokyo','Japan')"
   ]
  },
  {
   "cell_type": "code",
   "execution_count": 6,
   "id": "5ab503f7",
   "metadata": {},
   "outputs": [
    {
     "name": "stdout",
     "output_type": "stream",
     "text": [
      "Warsaw is the capital of Poland\n"
     ]
    }
   ],
   "source": [
    "cntry_cap('Warsaw','Poland')"
   ]
  },
  {
   "cell_type": "code",
   "execution_count": 7,
   "id": "2624ebaf",
   "metadata": {},
   "outputs": [
    {
     "name": "stdout",
     "output_type": "stream",
     "text": [
      "Bern is the capital of Switzerland\n",
      "Dublin is the capital of Ireland\n"
     ]
    }
   ],
   "source": [
    "cntry_cap('Bern','Switzerland')\n",
    "cntry_cap('Dublin','Ireland')"
   ]
  },
  {
   "cell_type": "markdown",
   "id": "30254fd8",
   "metadata": {},
   "source": [
    "### Syntax error will be thrown if a positional/non-default argument is missing in the function call"
   ]
  },
  {
   "cell_type": "code",
   "execution_count": 8,
   "id": "f668667e",
   "metadata": {},
   "outputs": [
    {
     "ename": "TypeError",
     "evalue": "cntry_cap() missing 1 required positional argument: 'country'",
     "output_type": "error",
     "traceback": [
      "\u001b[1;31m---------------------------------------------------------------------------\u001b[0m",
      "\u001b[1;31mTypeError\u001b[0m                                 Traceback (most recent call last)",
      "Cell \u001b[1;32mIn[8], line 1\u001b[0m\n\u001b[1;32m----> 1\u001b[0m \u001b[43mcntry_cap\u001b[49m\u001b[43m(\u001b[49m\u001b[38;5;124;43m'\u001b[39;49m\u001b[38;5;124;43mWarsaw\u001b[39;49m\u001b[38;5;124;43m'\u001b[39;49m\u001b[43m)\u001b[49m\n",
      "\u001b[1;31mTypeError\u001b[0m: cntry_cap() missing 1 required positional argument: 'country'"
     ]
    }
   ],
   "source": [
    "cntry_cap('Warsaw')"
   ]
  },
  {
   "cell_type": "markdown",
   "id": "3f4110a3",
   "metadata": {},
   "source": [
    "### Keyword arguments\n",
    "Specifying the argument name in the function call and assiging the value. These are called as Keyword Arguments  \n",
    "Keyword arguments allow us to employ any order of passing values (ie., Interchanging arguments won't cause any issue)"
   ]
  },
  {
   "cell_type": "code",
   "execution_count": 9,
   "id": "84a53dc5",
   "metadata": {},
   "outputs": [
    {
     "name": "stdout",
     "output_type": "stream",
     "text": [
      "Moscow is the capital of Russia\n"
     ]
    }
   ],
   "source": [
    "\"\"\"\n",
    "Another way of doing a function call is by using the function arguments name and then assigning the value.\n",
    "In this way even if the arguments positions are interchanged there won't be any problem. \n",
    "\"\"\"\n",
    "cntry_cap(country='Russia', city='Moscow')"
   ]
  },
  {
   "cell_type": "code",
   "execution_count": 10,
   "id": "0c0c4343",
   "metadata": {},
   "outputs": [
    {
     "name": "stdout",
     "output_type": "stream",
     "text": [
      "Russia is the capital of Moscow\n"
     ]
    }
   ],
   "source": [
    "# Without using the argument names in the function call and interchanging the argument values\n",
    "cntry_cap('Russia','Moscow')"
   ]
  },
  {
   "cell_type": "code",
   "execution_count": 11,
   "id": "fe4415dc",
   "metadata": {},
   "outputs": [
    {
     "name": "stdout",
     "output_type": "stream",
     "text": [
      "Moscow is the capital of Russia\n"
     ]
    }
   ],
   "source": [
    "cty = 'Moscow'\n",
    "cntry = 'Russia'\n",
    "cntry_cap(country=cntry, city=cty)"
   ]
  },
  {
   "cell_type": "markdown",
   "id": "2d387a90",
   "metadata": {},
   "source": [
    "### Passing a list of tuples as an argument to a function"
   ]
  },
  {
   "cell_type": "code",
   "execution_count": 12,
   "id": "f15949b5",
   "metadata": {},
   "outputs": [
    {
     "name": "stdout",
     "output_type": "stream",
     "text": [
      "Norway is the capital of Oslo\n",
      "Switzerland is the capital of Bern\n",
      "Ireland is the capital of Dublin\n"
     ]
    }
   ],
   "source": [
    "def cntry_cap(lst):  \n",
    "    for tup in lst:\n",
    "        print('{} is the capital of {}'.format(*tup))  # * operator actually unpacks the tuples and pass it to format() fn.\n",
    "\n",
    "lst_tup = [('Norway','Oslo'),('Switzerland','Bern'),('Ireland','Dublin')]\n",
    "cntry_cap(lst_tup)\n",
    "# You can observe the logical error in the output that will be fixed in the following cell \\\n",
    "# that is handled using the positions in the string formatting"
   ]
  },
  {
   "cell_type": "code",
   "execution_count": 13,
   "id": "ecbbdfc6",
   "metadata": {},
   "outputs": [
    {
     "name": "stdout",
     "output_type": "stream",
     "text": [
      "Oslo is the capital of Norway\n",
      "Bern is the capital of Switzerland\n",
      "Dublin is the capital of Ireland\n"
     ]
    }
   ],
   "source": [
    "def cntry_cap(lst):  # positional arguments = country, city\n",
    "    for tup in lst:\n",
    "        print('{1} is the capital of {0}'.format(*tup))\n",
    "\n",
    "lst_tup = [('Norway','Oslo'),('Switzerland','Bern'),('Ireland','Dublin')]\n",
    "cntry_cap(lst_tup)"
   ]
  },
  {
   "cell_type": "code",
   "execution_count": 14,
   "id": "7ee91416",
   "metadata": {},
   "outputs": [
    {
     "name": "stdout",
     "output_type": "stream",
     "text": [
      "[4, 8, 12, 16, 20, 24, 28, 32, 36, 40, 44, 48]\n"
     ]
    }
   ],
   "source": [
    "# Creating a list of range of numbers that is divisible by 4 (without using any function)\n",
    "\n",
    "lst = []\n",
    "for i in range(1,51):\n",
    "    if i%4==0:\n",
    "        lst.append(i)\n",
    "print(lst)"
   ]
  },
  {
   "cell_type": "code",
   "execution_count": 15,
   "id": "7ff93335",
   "metadata": {},
   "outputs": [],
   "source": [
    "# Docstring - can be used to define or describe a function using multiline comment\n",
    "\"\"\"\n",
    "This function is used to create a list of numbers that are divisible by a given number\n",
    "num - divisor\n",
    "start_range and end_range is used for defining the range\n",
    "\"\"\"\n",
    "def create_div_list(num, start_range, end_range):\n",
    "    lst_ = []\n",
    "    for i in range(start_range, end_range):\n",
    "        if i%num==0:\n",
    "            lst_.append(i)\n",
    "    return lst_"
   ]
  },
  {
   "cell_type": "code",
   "execution_count": 16,
   "id": "1b742835",
   "metadata": {},
   "outputs": [
    {
     "data": {
      "text/plain": [
       "[4, 8, 12, 16, 20, 24, 28, 32, 36, 40, 44, 48]"
      ]
     },
     "execution_count": 16,
     "metadata": {},
     "output_type": "execute_result"
    }
   ],
   "source": [
    "create_div_list(4, 1, 51)"
   ]
  },
  {
   "cell_type": "code",
   "execution_count": 17,
   "id": "baa6edc2",
   "metadata": {},
   "outputs": [
    {
     "data": {
      "text/plain": [
       "[10, 15, 20, 25, 30, 35, 40, 45, 50, 55, 60, 65, 70, 75, 80, 85, 90, 95, 100]"
      ]
     },
     "execution_count": 17,
     "metadata": {},
     "output_type": "execute_result"
    }
   ],
   "source": [
    "create_div_list(5, 10, 101)"
   ]
  },
  {
   "cell_type": "markdown",
   "id": "abff69bc",
   "metadata": {},
   "source": [
    "### Non default/Optional arguments\n",
    "Non default/optional arguments can be specified in function definition by assigning a value to an argument   \n",
    "If no value has been passed for that argument during the function call, then the default value in the function definition will be used  \n",
    "else value from the function call will be used"
   ]
  },
  {
   "cell_type": "code",
   "execution_count": 18,
   "id": "a2e0807c",
   "metadata": {},
   "outputs": [],
   "source": [
    "\"\"\"\n",
    "This function is used to create a list of numbers that are divisible by a given number\n",
    "num - divisor\n",
    "start_range and end_range is used for defining the range\n",
    "\"\"\"\n",
    "def create_div_lst(num, start_range=1, end_range=21):\n",
    "    lst_ = []\n",
    "    for i in range(start_range, end_range):\n",
    "        if i%num==0:\n",
    "            lst_.append(i)\n",
    "    return lst_"
   ]
  },
  {
   "cell_type": "code",
   "execution_count": 19,
   "id": "9e6de652",
   "metadata": {},
   "outputs": [
    {
     "data": {
      "text/plain": [
       "[2, 4, 6, 8, 10, 12, 14, 16, 18, 20]"
      ]
     },
     "execution_count": 19,
     "metadata": {},
     "output_type": "execute_result"
    }
   ],
   "source": [
    "# No start_range and end_range specified\n",
    "create_div_lst(2)"
   ]
  },
  {
   "cell_type": "code",
   "execution_count": 20,
   "id": "01b54ad2",
   "metadata": {},
   "outputs": [
    {
     "data": {
      "text/plain": [
       "[10, 12, 14, 16, 18, 20]"
      ]
     },
     "execution_count": 20,
     "metadata": {},
     "output_type": "execute_result"
    }
   ],
   "source": [
    "# Start_range specified in the function call but not the end range\n",
    "create_div_lst(2, 10)"
   ]
  },
  {
   "cell_type": "code",
   "execution_count": 21,
   "id": "3e80217e",
   "metadata": {},
   "outputs": [
    {
     "data": {
      "text/plain": [
       "[10,\n",
       " 12,\n",
       " 14,\n",
       " 16,\n",
       " 18,\n",
       " 20,\n",
       " 22,\n",
       " 24,\n",
       " 26,\n",
       " 28,\n",
       " 30,\n",
       " 32,\n",
       " 34,\n",
       " 36,\n",
       " 38,\n",
       " 40,\n",
       " 42,\n",
       " 44,\n",
       " 46,\n",
       " 48,\n",
       " 50]"
      ]
     },
     "execution_count": 21,
     "metadata": {},
     "output_type": "execute_result"
    }
   ],
   "source": [
    "# Start_range and End_range specified in the function call\n",
    "create_div_lst(2, 10, 51)"
   ]
  },
  {
   "cell_type": "markdown",
   "id": "c4f117be",
   "metadata": {},
   "source": [
    "### Always the Positional or non-default argument precedes the default/optional arguments\n",
    "else the function definition will throw error"
   ]
  },
  {
   "cell_type": "code",
   "execution_count": 22,
   "id": "604375ac",
   "metadata": {},
   "outputs": [
    {
     "ename": "SyntaxError",
     "evalue": "non-default argument follows default argument (298291310.py, line 1)",
     "output_type": "error",
     "traceback": [
      "\u001b[1;36m  Cell \u001b[1;32mIn[22], line 1\u001b[1;36m\u001b[0m\n\u001b[1;33m    def create_div_lst(num, start_range=1, end_range):\u001b[0m\n\u001b[1;37m                                           ^\u001b[0m\n\u001b[1;31mSyntaxError\u001b[0m\u001b[1;31m:\u001b[0m non-default argument follows default argument\n"
     ]
    }
   ],
   "source": [
    "def create_div_lst(num, start_range=1, end_range):\n",
    "    lst_ = []\n",
    "    for i in range(start_range, end_range):\n",
    "        if i%num==0:\n",
    "            lst_.append(i)\n",
    "    return lst_"
   ]
  },
  {
   "cell_type": "code",
   "execution_count": 23,
   "id": "f64cbb89",
   "metadata": {},
   "outputs": [],
   "source": [
    "def create_div_lst(num, end_range, start_range=1):\n",
    "    lst_ = []\n",
    "    for i in range(start_range, end_range):\n",
    "        if i%num==0:\n",
    "            lst_.append(i)\n",
    "    return lst_"
   ]
  },
  {
   "cell_type": "code",
   "execution_count": 24,
   "id": "825ba24b",
   "metadata": {},
   "outputs": [
    {
     "data": {
      "text/plain": [
       "[8, 16, 24, 32, 40, 48, 56, 64, 72, 80, 88, 96]"
      ]
     },
     "execution_count": 24,
     "metadata": {},
     "output_type": "execute_result"
    }
   ],
   "source": [
    "# Using keyword arguments for both Positional and Default arguments\n",
    "create_div_lst(end_range=101, start_range=7, num=8)"
   ]
  },
  {
   "cell_type": "code",
   "execution_count": 25,
   "id": "8755ec54",
   "metadata": {},
   "outputs": [
    {
     "name": "stdout",
     "output_type": "stream",
     "text": [
      " lst_5=[5, 10, 15, 20],\n",
      " lst_6=[6, 12, 18, 24, 30],\n",
      " lst_7=[14, 21, 28, 35, 42, 49, 56]\n"
     ]
    }
   ],
   "source": [
    "# We can also store the return value from a function in a variable\n",
    "lst_5 = create_div_lst(num=5, end_range=21)\n",
    "lst_6 = create_div_lst(6, 31)\n",
    "lst_7 = create_div_lst(7, 61, 11)\n",
    "print(' lst_5={},\\n lst_6={},\\n lst_7={}'.format(lst_5, lst_6, lst_7))"
   ]
  },
  {
   "cell_type": "markdown",
   "id": "78b87556",
   "metadata": {},
   "source": [
    "# Explore it yourself - Nested functions"
   ]
  }
 ],
 "metadata": {
  "kernelspec": {
   "display_name": "Python 3 (ipykernel)",
   "language": "python",
   "name": "python3"
  },
  "language_info": {
   "codemirror_mode": {
    "name": "ipython",
    "version": 3
   },
   "file_extension": ".py",
   "mimetype": "text/x-python",
   "name": "python",
   "nbconvert_exporter": "python",
   "pygments_lexer": "ipython3",
   "version": "3.10.9"
  }
 },
 "nbformat": 4,
 "nbformat_minor": 5
}
