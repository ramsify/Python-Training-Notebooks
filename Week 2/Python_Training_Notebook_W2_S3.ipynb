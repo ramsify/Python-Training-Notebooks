{
 "cells": [
  {
   "cell_type": "markdown",
   "id": "02ffcfda",
   "metadata": {},
   "source": [
    "# Global and local variables"
   ]
  },
  {
   "cell_type": "code",
   "execution_count": 1,
   "id": "1131b76b",
   "metadata": {},
   "outputs": [
    {
     "name": "stdout",
     "output_type": "stream",
     "text": [
      "Accessing the global variable a=1000, b=Python ,c=20\n"
     ]
    }
   ],
   "source": [
    "a = 1000  # global variable\n",
    "b = 'Python' # global variable\n",
    "c = 20 # global variable\n",
    "\n",
    "def sample_fun():\n",
    "    print('Accessing the global variable a={}, b={} ,c={}'.format(a,b,c))\n",
    "\n",
    "sample_fun()"
   ]
  },
  {
   "cell_type": "code",
   "execution_count": 2,
   "id": "c2139663",
   "metadata": {},
   "outputs": [
    {
     "name": "stdout",
     "output_type": "stream",
     "text": [
      "Accessing the Global variable \"a\" outside the function. Value of a =1000\n",
      "Accessing the local variable \"a\" within the function. Value of a = 10.45\n",
      "Accessing the local variable \"d\" within the function. Value of d = Welcome\n",
      "Modifying and Accessing the global variable \"c\" within the function. Value of c = 35\n"
     ]
    }
   ],
   "source": [
    "def sample_fun2():\n",
    "    a = 10.45   # creating a new local variable which has same name as that of global variable\n",
    "    print('Accessing the local variable \"a\" within the function. Value of a = {}'.format(a))\n",
    "\n",
    "    d = 'Welcome' # creating another new local variable \n",
    "    print('Accessing the local variable \"d\" within the function. Value of d = {}'.format(d))\n",
    "    \n",
    "    global c  # modifying the value of global variable. Within a function 'GLOBAL' keyword is used \n",
    "    c = 35\n",
    "    print('Modifying and Accessing the global variable \"c\" within the function. Value of c = {}'.format(c))\n",
    "\n",
    "print('Accessing the Global variable \"a\" outside the function. Value of a ={}'.format(a))\n",
    "sample_fun2()"
   ]
  },
  {
   "cell_type": "code",
   "execution_count": 3,
   "id": "c8a24c0f",
   "metadata": {},
   "outputs": [
    {
     "name": "stdout",
     "output_type": "stream",
     "text": [
      "Accessing the Global variable \"c\" outside the function. Value of c =35\n"
     ]
    }
   ],
   "source": [
    "print('Accessing the Global variable \"c\" outside the function. Value of c ={}'.format(c))\n",
    "# using global keyword we have modified the global variable c using the function"
   ]
  },
  {
   "cell_type": "code",
   "execution_count": 4,
   "id": "eba688b4",
   "metadata": {},
   "outputs": [
    {
     "ename": "NameError",
     "evalue": "name 'd' is not defined",
     "output_type": "error",
     "traceback": [
      "\u001b[1;31m---------------------------------------------------------------------------\u001b[0m",
      "\u001b[1;31mNameError\u001b[0m                                 Traceback (most recent call last)",
      "Cell \u001b[1;32mIn[4], line 1\u001b[0m\n\u001b[1;32m----> 1\u001b[0m \u001b[38;5;28mprint\u001b[39m(\u001b[38;5;124m'\u001b[39m\u001b[38;5;124mAccessing the local variable \u001b[39m\u001b[38;5;124m\"\u001b[39m\u001b[38;5;124md\u001b[39m\u001b[38;5;124m\"\u001b[39m\u001b[38;5;124m outside the function. Value of d =\u001b[39m\u001b[38;5;132;01m{}\u001b[39;00m\u001b[38;5;124m'\u001b[39m\u001b[38;5;241m.\u001b[39mformat(\u001b[43md\u001b[49m))\n",
      "\u001b[1;31mNameError\u001b[0m: name 'd' is not defined"
     ]
    }
   ],
   "source": [
    "print('Accessing the local variable \"d\" outside the function. Value of d ={}'.format(d))\n",
    "# we cannot access the local variable of a function outside the function"
   ]
  },
  {
   "cell_type": "markdown",
   "id": "1efe7701",
   "metadata": {},
   "source": [
    "### Explore it yourself on how to get the value of the local variable of a function and access it outside the function by revisiting Functions topic from the previous session"
   ]
  },
  {
   "cell_type": "markdown",
   "id": "341f257c",
   "metadata": {},
   "source": [
    "# OS module\n",
    "The OS module in Python provides functions for interacting with the operating system. OS comes under Python's standard utility modules.   \n",
    "It's mainly used while working with directories/paths"
   ]
  },
  {
   "cell_type": "code",
   "execution_count": 5,
   "id": "8329e91c",
   "metadata": {},
   "outputs": [
    {
     "name": "stdout",
     "output_type": "stream",
     "text": [
      "C:\\Users\\ramananb\\Documents\\Python Scripts\n"
     ]
    }
   ],
   "source": [
    "import os\n",
    "\n",
    "# getting the current working directory\n",
    "cwd = os.getcwd()\n",
    "print(cwd)"
   ]
  },
  {
   "cell_type": "code",
   "execution_count": 6,
   "id": "9f2db909",
   "metadata": {},
   "outputs": [
    {
     "name": "stdout",
     "output_type": "stream",
     "text": [
      "The basename = Python Scripts\n"
     ]
    }
   ],
   "source": [
    "# getting the basename (leaf node of a directory path)\n",
    "basename = os.path.basename(os.getcwd())\n",
    "print('The basename = {}'.format(basename))"
   ]
  },
  {
   "cell_type": "code",
   "execution_count": 7,
   "id": "4c6a6d1c",
   "metadata": {},
   "outputs": [
    {
     "name": "stdout",
     "output_type": "stream",
     "text": [
      "The current working directory is:  C:\\Users\\ramananb\n"
     ]
    }
   ],
   "source": [
    "# change the cwd path\n",
    "os.chdir('C:/Users/ramananb/')\n",
    "print('The current working directory is: ', os.getcwd())"
   ]
  },
  {
   "cell_type": "markdown",
   "id": "44156f1d",
   "metadata": {},
   "source": [
    "### os.path.join() function - is used to join one more path segments"
   ]
  },
  {
   "cell_type": "code",
   "execution_count": 8,
   "id": "27a9878f",
   "metadata": {},
   "outputs": [
    {
     "name": "stdout",
     "output_type": "stream",
     "text": [
      "mypath = C:\\Users\\ramananb\\Documents\\Python Scripts, type(mypath)=<class 'str'>\n",
      "The current working directory is:  C:\\Users\\ramananb\\Documents\\Python Scripts\n"
     ]
    }
   ],
   "source": [
    "mypath = os.path.join(os.getcwd(),'Documents','Python Scripts')\n",
    "print('mypath = {}, type(mypath)={}'.format(mypath, type(mypath)))\n",
    "os.chdir(mypath)\n",
    "print('The current working directory is: ', os.getcwd())"
   ]
  },
  {
   "cell_type": "markdown",
   "id": "efd2e388",
   "metadata": {},
   "source": [
    "### Creating directories\n",
    "mkdir() function is used to create the base/leaf directory for a given path  \n",
    "makedirs() function is used to create the subdirectories along with the base/leaf directory if they don't exist\n",
    "\n",
    "Both the functions would throw error if we try to create a leaf/base directory that already exists  \n",
    "mkdir() function would throw error if any of the subdirectories doesn't exist\n"
   ]
  },
  {
   "cell_type": "code",
   "execution_count": 9,
   "id": "1450b755",
   "metadata": {},
   "outputs": [
    {
     "data": {
      "text/plain": [
       "'C:\\\\Users\\\\ramananb\\\\Documents\\\\Python Scripts'"
      ]
     },
     "execution_count": 9,
     "metadata": {},
     "output_type": "execute_result"
    }
   ],
   "source": [
    "os.getcwd()"
   ]
  },
  {
   "cell_type": "markdown",
   "id": "f3481c74",
   "metadata": {},
   "source": [
    "### os.listdir() is used to list out all the files and directories in the given path"
   ]
  },
  {
   "cell_type": "code",
   "execution_count": 10,
   "id": "2a7a4ccd",
   "metadata": {},
   "outputs": [
    {
     "data": {
      "text/plain": [
       "['.idea',\n",
       " '.ipynb_checkpoints',\n",
       " 'main.py',\n",
       " 'Python_Training_Notebook_W1_S1.ipynb',\n",
       " 'Python_Training_Notebook_W1_S2.ipynb',\n",
       " 'Python_Training_Notebook_W1_S3.ipynb',\n",
       " 'Python_Training_Notebook_W1_S4.ipynb',\n",
       " 'Python_Training_Notebook_W1_S5.ipynb',\n",
       " 'Python_Training_Notebook_W2_S1.ipynb',\n",
       " 'Python_Training_Notebook_W2_S2.ipynb',\n",
       " 'Python_Training_Notebook_W2_S3.ipynb',\n",
       " 'remove_dirs.py',\n",
       " 'sample.py',\n",
       " 'sample2.py',\n",
       " 'Untitled.ipynb']"
      ]
     },
     "execution_count": 10,
     "metadata": {},
     "output_type": "execute_result"
    }
   ],
   "source": [
    "os.listdir(os.getcwd())"
   ]
  },
  {
   "cell_type": "code",
   "execution_count": 11,
   "id": "0389da1f",
   "metadata": {},
   "outputs": [
    {
     "name": "stdout",
     "output_type": "stream",
     "text": [
      "The new path = C:\\Users\\ramananb\\Documents\\Python Scripts\\Dir_1\n"
     ]
    }
   ],
   "source": [
    "mypath2 = 'Dir_1'\n",
    "newpath = os.path.join(mypath,mypath2)\n",
    "print('The new path =', newpath)\n",
    "os.mkdir(newpath)"
   ]
  },
  {
   "cell_type": "code",
   "execution_count": 12,
   "id": "e85f7b0e",
   "metadata": {},
   "outputs": [
    {
     "data": {
      "text/plain": [
       "['.idea',\n",
       " '.ipynb_checkpoints',\n",
       " 'Dir_1',\n",
       " 'main.py',\n",
       " 'Python_Training_Notebook_W1_S1.ipynb',\n",
       " 'Python_Training_Notebook_W1_S2.ipynb',\n",
       " 'Python_Training_Notebook_W1_S3.ipynb',\n",
       " 'Python_Training_Notebook_W1_S4.ipynb',\n",
       " 'Python_Training_Notebook_W1_S5.ipynb',\n",
       " 'Python_Training_Notebook_W2_S1.ipynb',\n",
       " 'Python_Training_Notebook_W2_S2.ipynb',\n",
       " 'Python_Training_Notebook_W2_S3.ipynb',\n",
       " 'remove_dirs.py',\n",
       " 'sample.py',\n",
       " 'sample2.py',\n",
       " 'Untitled.ipynb']"
      ]
     },
     "execution_count": 12,
     "metadata": {},
     "output_type": "execute_result"
    }
   ],
   "source": [
    "os.listdir(os.getcwd()) # you can see the 'Dir_1' directory/folder has been created"
   ]
  },
  {
   "cell_type": "code",
   "execution_count": 13,
   "id": "97ce4d82",
   "metadata": {},
   "outputs": [
    {
     "name": "stdout",
     "output_type": "stream",
     "text": [
      "The new path = C:\\Users\\ramananb\\Documents\\Python Scripts\\Dir_1\\sub_dir_1\\leaf_dir_1\n"
     ]
    }
   ],
   "source": [
    "mypath3 = 'sub_dir_1\\leaf_dir_1'\n",
    "newpath = os.path.join(newpath,mypath3)\n",
    "print('The new path =', newpath)\n",
    "os.makedirs(newpath)"
   ]
  },
  {
   "cell_type": "code",
   "execution_count": 14,
   "id": "b5bda605",
   "metadata": {},
   "outputs": [
    {
     "data": {
      "text/plain": [
       "['sub_dir_1']"
      ]
     },
     "execution_count": 14,
     "metadata": {},
     "output_type": "execute_result"
    }
   ],
   "source": [
    "os.chdir('C:\\\\Users\\\\ramananb\\\\Documents\\\\Python Scripts\\\\Dir_1')\n",
    "os.listdir(os.getcwd()) # you can see the 'sub_dir_1' directory/folder has been created"
   ]
  },
  {
   "cell_type": "code",
   "execution_count": 15,
   "id": "68a9fe2d",
   "metadata": {},
   "outputs": [
    {
     "data": {
      "text/plain": [
       "['leaf_dir_1']"
      ]
     },
     "execution_count": 15,
     "metadata": {},
     "output_type": "execute_result"
    }
   ],
   "source": [
    "os.chdir('C:\\\\Users\\\\ramananb\\\\Documents\\\\Python Scripts\\\\Dir_1\\\\sub_dir_1')\n",
    "os.listdir(os.getcwd()) # you can see the 'sub_dir_1' directory/folder has been created"
   ]
  },
  {
   "cell_type": "code",
   "execution_count": 16,
   "id": "79a75a21",
   "metadata": {},
   "outputs": [],
   "source": [
    "# Creating few more directories\n",
    "os.chdir('C:\\\\Users\\\\ramananb\\\\Documents\\\\Python Scripts')\n",
    "mypath4 = 'Dir_1\\sub_dir_2\\leaf_dir_1'\n",
    "mypath5= 'Dir_1\\sub_dir_2\\leaf_dir_2'\n",
    "mypath6= 'Dir_1\\sub_dir_1\\leaf_dir_2'\n",
    "for path in [mypath4,mypath5,mypath6]:\n",
    "    os.makedirs(os.path.join(os.getcwd(),path))"
   ]
  },
  {
   "cell_type": "code",
   "execution_count": 17,
   "id": "c77b6e4c",
   "metadata": {},
   "outputs": [
    {
     "data": {
      "text/plain": [
       "['sub_dir_1', 'sub_dir_2']"
      ]
     },
     "execution_count": 17,
     "metadata": {},
     "output_type": "execute_result"
    }
   ],
   "source": [
    "os.chdir('C:\\\\Users\\\\ramananb\\\\Documents\\\\Python Scripts\\\\Dir_1')\n",
    "os.listdir(os.getcwd())"
   ]
  },
  {
   "cell_type": "code",
   "execution_count": 18,
   "id": "956717b0",
   "metadata": {},
   "outputs": [
    {
     "data": {
      "text/plain": [
       "['leaf_dir_1', 'leaf_dir_2']"
      ]
     },
     "execution_count": 18,
     "metadata": {},
     "output_type": "execute_result"
    }
   ],
   "source": [
    "os.chdir('C:\\\\Users\\\\ramananb\\\\Documents\\\\Python Scripts\\\\Dir_1\\\\sub_dir_2')\n",
    "os.listdir(os.getcwd())\n",
    "#All the directories have been created"
   ]
  },
  {
   "attachments": {
    "image.png": {
     "image/png": "[encoded data removed]"
    }
   },
   "cell_type": "markdown",
   "id": "0e066a74",
   "metadata": {},
   "source": [
    "![image.png](attachment:image.png)"
   ]
  },
  {
   "cell_type": "markdown",
   "id": "1c56280d",
   "metadata": {},
   "source": [
    "# For remove directories code refer to 'remove_dirs.py'"
   ]
  },
  {
   "cell_type": "code",
   "execution_count": null,
   "id": "ba46f6fd",
   "metadata": {},
   "outputs": [],
   "source": []
  }
 ],
 "metadata": {
  "kernelspec": {
   "display_name": "Python 3 (ipykernel)",
   "language": "python",
   "name": "python3"
  },
  "language_info": {
   "codemirror_mode": {
    "name": "ipython",
    "version": 3
   },
   "file_extension": ".py",
   "mimetype": "text/x-python",
   "name": "python",
   "nbconvert_exporter": "python",
   "pygments_lexer": "ipython3",
   "version": "3.10.9"
  }
 },
 "nbformat": 4,
 "nbformat_minor": 5
}
