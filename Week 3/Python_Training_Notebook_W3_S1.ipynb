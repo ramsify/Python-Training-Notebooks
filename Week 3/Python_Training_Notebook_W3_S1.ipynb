{
 "cells": [
  {
   "cell_type": "markdown",
   "id": "a0e9bd67",
   "metadata": {},
   "source": [
    "# Pandas - Python Data Analysis library\n",
    "### Refer to the Python_Training_W3_S1_Whiteboard_content pdf to know more about Pandas applications"
   ]
  },
  {
   "cell_type": "code",
   "execution_count": 10,
   "id": "73a440f5",
   "metadata": {},
   "outputs": [
    {
     "name": "stdout",
     "output_type": "stream",
     "text": [
      "Requirement already satisfied: pandas in c:\\users\\ramananb\\appdata\\local\\anaconda3\\lib\\site-packages (1.5.3)Note: you may need to restart the kernel to use updated packages.\n",
      "\n",
      "Requirement already satisfied: numpy>=1.21.0 in c:\\users\\ramananb\\appdata\\local\\anaconda3\\lib\\site-packages (from pandas) (1.23.5)\n",
      "Requirement already satisfied: python-dateutil>=2.8.1 in c:\\users\\ramananb\\appdata\\local\\anaconda3\\lib\\site-packages (from pandas) (2.8.2)\n",
      "Requirement already satisfied: pytz>=2020.1 in c:\\users\\ramananb\\appdata\\local\\anaconda3\\lib\\site-packages (from pandas) (2022.7)\n",
      "Requirement already satisfied: six>=1.5 in c:\\users\\ramananb\\appdata\\local\\anaconda3\\lib\\site-packages (from python-dateutil>=2.8.1->pandas) (1.16.0)\n"
     ]
    }
   ],
   "source": [
    "pip install pandas"
   ]
  },
  {
   "cell_type": "code",
   "execution_count": 11,
   "id": "b343e340",
   "metadata": {},
   "outputs": [],
   "source": [
    "import pandas as pd"
   ]
  },
  {
   "cell_type": "code",
   "execution_count": 12,
   "id": "e0b98099",
   "metadata": {},
   "outputs": [
    {
     "data": {
      "text/plain": [
       "'\\nraw string is used to avoid escape sequences. In the above example you have to use either a single fwd slash\\nor double backslashes for windows path, but using rawstring we can use single backslash without triggering any errors\\n'"
      ]
     },
     "execution_count": 12,
     "metadata": {},
     "output_type": "execute_result"
    }
   ],
   "source": [
    "# csv file path to read csv files \n",
    "auto_csv = r\"C:\\Users\\ramananb\\Downloads\\Automobile.csv\" \n",
    "'''\n",
    "raw string is used to avoid escape sequences. In the above example you have to use either a single fwd slash\n",
    "or double backslashes for windows path, but using rawstring we can use single backslash without triggering any errors\n",
    "'''"
   ]
  },
  {
   "cell_type": "code",
   "execution_count": 13,
   "id": "701bcdd8",
   "metadata": {},
   "outputs": [],
   "source": [
    "# dumping the csv into a dataframe\n",
    "auto_df = pd.read_csv(auto_csv)"
   ]
  },
  {
   "cell_type": "code",
   "execution_count": 14,
   "id": "4001d204",
   "metadata": {},
   "outputs": [
    {
     "data": {
      "text/html": [
       "<div>\n",
       "<style scoped>\n",
       "    .dataframe tbody tr th:only-of-type {\n",
       "        vertical-align: middle;\n",
       "    }\n",
       "\n",
       "    .dataframe tbody tr th {\n",
       "        vertical-align: top;\n",
       "    }\n",
       "\n",
       "    .dataframe thead th {\n",
       "        text-align: right;\n",
       "    }\n",
       "</style>\n",
       "<table border=\"1\" class=\"dataframe\">\n",
       "  <thead>\n",
       "    <tr style=\"text-align: right;\">\n",
       "      <th></th>\n",
       "      <th>name</th>\n",
       "      <th>mpg</th>\n",
       "      <th>cylinders</th>\n",
       "      <th>displacement</th>\n",
       "      <th>horsepower</th>\n",
       "      <th>weight</th>\n",
       "      <th>acceleration</th>\n",
       "      <th>model_year</th>\n",
       "      <th>origin</th>\n",
       "    </tr>\n",
       "  </thead>\n",
       "  <tbody>\n",
       "    <tr>\n",
       "      <th>0</th>\n",
       "      <td>chevrolet chevelle malibu</td>\n",
       "      <td>18.0</td>\n",
       "      <td>8</td>\n",
       "      <td>307.0</td>\n",
       "      <td>130.0</td>\n",
       "      <td>3504</td>\n",
       "      <td>12.0</td>\n",
       "      <td>70</td>\n",
       "      <td>usa</td>\n",
       "    </tr>\n",
       "    <tr>\n",
       "      <th>1</th>\n",
       "      <td>buick skylark 320</td>\n",
       "      <td>15.0</td>\n",
       "      <td>8</td>\n",
       "      <td>350.0</td>\n",
       "      <td>165.0</td>\n",
       "      <td>3693</td>\n",
       "      <td>11.5</td>\n",
       "      <td>70</td>\n",
       "      <td>usa</td>\n",
       "    </tr>\n",
       "    <tr>\n",
       "      <th>2</th>\n",
       "      <td>plymouth satellite</td>\n",
       "      <td>18.0</td>\n",
       "      <td>8</td>\n",
       "      <td>318.0</td>\n",
       "      <td>150.0</td>\n",
       "      <td>3436</td>\n",
       "      <td>11.0</td>\n",
       "      <td>70</td>\n",
       "      <td>usa</td>\n",
       "    </tr>\n",
       "    <tr>\n",
       "      <th>3</th>\n",
       "      <td>amc rebel sst</td>\n",
       "      <td>16.0</td>\n",
       "      <td>8</td>\n",
       "      <td>304.0</td>\n",
       "      <td>150.0</td>\n",
       "      <td>3433</td>\n",
       "      <td>12.0</td>\n",
       "      <td>70</td>\n",
       "      <td>usa</td>\n",
       "    </tr>\n",
       "    <tr>\n",
       "      <th>4</th>\n",
       "      <td>ford torino</td>\n",
       "      <td>17.0</td>\n",
       "      <td>8</td>\n",
       "      <td>302.0</td>\n",
       "      <td>140.0</td>\n",
       "      <td>3449</td>\n",
       "      <td>10.5</td>\n",
       "      <td>70</td>\n",
       "      <td>usa</td>\n",
       "    </tr>\n",
       "    <tr>\n",
       "      <th>...</th>\n",
       "      <td>...</td>\n",
       "      <td>...</td>\n",
       "      <td>...</td>\n",
       "      <td>...</td>\n",
       "      <td>...</td>\n",
       "      <td>...</td>\n",
       "      <td>...</td>\n",
       "      <td>...</td>\n",
       "      <td>...</td>\n",
       "    </tr>\n",
       "    <tr>\n",
       "      <th>393</th>\n",
       "      <td>ford mustang gl</td>\n",
       "      <td>27.0</td>\n",
       "      <td>4</td>\n",
       "      <td>140.0</td>\n",
       "      <td>86.0</td>\n",
       "      <td>2790</td>\n",
       "      <td>15.6</td>\n",
       "      <td>82</td>\n",
       "      <td>usa</td>\n",
       "    </tr>\n",
       "    <tr>\n",
       "      <th>394</th>\n",
       "      <td>vw pickup</td>\n",
       "      <td>44.0</td>\n",
       "      <td>4</td>\n",
       "      <td>97.0</td>\n",
       "      <td>52.0</td>\n",
       "      <td>2130</td>\n",
       "      <td>24.6</td>\n",
       "      <td>82</td>\n",
       "      <td>europe</td>\n",
       "    </tr>\n",
       "    <tr>\n",
       "      <th>395</th>\n",
       "      <td>dodge rampage</td>\n",
       "      <td>32.0</td>\n",
       "      <td>4</td>\n",
       "      <td>135.0</td>\n",
       "      <td>84.0</td>\n",
       "      <td>2295</td>\n",
       "      <td>11.6</td>\n",
       "      <td>82</td>\n",
       "      <td>usa</td>\n",
       "    </tr>\n",
       "    <tr>\n",
       "      <th>396</th>\n",
       "      <td>ford ranger</td>\n",
       "      <td>28.0</td>\n",
       "      <td>4</td>\n",
       "      <td>120.0</td>\n",
       "      <td>79.0</td>\n",
       "      <td>2625</td>\n",
       "      <td>18.6</td>\n",
       "      <td>82</td>\n",
       "      <td>usa</td>\n",
       "    </tr>\n",
       "    <tr>\n",
       "      <th>397</th>\n",
       "      <td>chevy s-10</td>\n",
       "      <td>31.0</td>\n",
       "      <td>4</td>\n",
       "      <td>119.0</td>\n",
       "      <td>82.0</td>\n",
       "      <td>2720</td>\n",
       "      <td>19.4</td>\n",
       "      <td>82</td>\n",
       "      <td>usa</td>\n",
       "    </tr>\n",
       "  </tbody>\n",
       "</table>\n",
       "<p>398 rows × 9 columns</p>\n",
       "</div>"
      ],
      "text/plain": [
       "                          name   mpg  cylinders  displacement  horsepower  \\\n",
       "0    chevrolet chevelle malibu  18.0          8         307.0       130.0   \n",
       "1            buick skylark 320  15.0          8         350.0       165.0   \n",
       "2           plymouth satellite  18.0          8         318.0       150.0   \n",
       "3                amc rebel sst  16.0          8         304.0       150.0   \n",
       "4                  ford torino  17.0          8         302.0       140.0   \n",
       "..                         ...   ...        ...           ...         ...   \n",
       "393            ford mustang gl  27.0          4         140.0        86.0   \n",
       "394                  vw pickup  44.0          4          97.0        52.0   \n",
       "395              dodge rampage  32.0          4         135.0        84.0   \n",
       "396                ford ranger  28.0          4         120.0        79.0   \n",
       "397                 chevy s-10  31.0          4         119.0        82.0   \n",
       "\n",
       "     weight  acceleration  model_year  origin  \n",
       "0      3504          12.0          70     usa  \n",
       "1      3693          11.5          70     usa  \n",
       "2      3436          11.0          70     usa  \n",
       "3      3433          12.0          70     usa  \n",
       "4      3449          10.5          70     usa  \n",
       "..      ...           ...         ...     ...  \n",
       "393    2790          15.6          82     usa  \n",
       "394    2130          24.6          82  europe  \n",
       "395    2295          11.6          82     usa  \n",
       "396    2625          18.6          82     usa  \n",
       "397    2720          19.4          82     usa  \n",
       "\n",
       "[398 rows x 9 columns]"
      ]
     },
     "execution_count": 14,
     "metadata": {},
     "output_type": "execute_result"
    }
   ],
   "source": [
    "auto_df"
   ]
  },
  {
   "cell_type": "code",
   "execution_count": 15,
   "id": "0513fcac",
   "metadata": {},
   "outputs": [],
   "source": [
    "# Shape of a dataframe (No. of rows, no. of cols)\n",
    "tup = auto_df.shape"
   ]
  },
  {
   "cell_type": "code",
   "execution_count": 16,
   "id": "4c27b1f3",
   "metadata": {},
   "outputs": [
    {
     "name": "stdout",
     "output_type": "stream",
     "text": [
      "(398, 9) <class 'tuple'>\n"
     ]
    }
   ],
   "source": [
    "print (tup, type(tup))"
   ]
  },
  {
   "cell_type": "code",
   "execution_count": 17,
   "id": "0885cab3",
   "metadata": {},
   "outputs": [
    {
     "name": "stdout",
     "output_type": "stream",
     "text": [
      "<class 'pandas.core.frame.DataFrame'>\n",
      "RangeIndex: 398 entries, 0 to 397\n",
      "Data columns (total 9 columns):\n",
      " #   Column        Non-Null Count  Dtype  \n",
      "---  ------        --------------  -----  \n",
      " 0   name          398 non-null    object \n",
      " 1   mpg           398 non-null    float64\n",
      " 2   cylinders     398 non-null    int64  \n",
      " 3   displacement  398 non-null    float64\n",
      " 4   horsepower    392 non-null    float64\n",
      " 5   weight        398 non-null    int64  \n",
      " 6   acceleration  398 non-null    float64\n",
      " 7   model_year    398 non-null    int64  \n",
      " 8   origin        398 non-null    object \n",
      "dtypes: float64(4), int64(3), object(2)\n",
      "memory usage: 28.1+ KB\n"
     ]
    }
   ],
   "source": [
    "# Dataframe metadata\n",
    "auto_df.info()"
   ]
  }
 ],
 "metadata": {
  "kernelspec": {
   "display_name": "Python 3 (ipykernel)",
   "language": "python",
   "name": "python3"
  },
  "language_info": {
   "codemirror_mode": {
    "name": "ipython",
    "version": 3
   },
   "file_extension": ".py",
   "mimetype": "text/x-python",
   "name": "python",
   "nbconvert_exporter": "python",
   "pygments_lexer": "ipython3",
   "version": "3.10.9"
  }
 },
 "nbformat": 4,
 "nbformat_minor": 5
}
